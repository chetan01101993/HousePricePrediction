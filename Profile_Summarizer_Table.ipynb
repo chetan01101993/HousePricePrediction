{
  "nbformat": 4,
  "nbformat_minor": 0,
  "metadata": {
    "colab": {
      "name": "Profile Summarizer Table.ipynb",
      "provenance": [],
      "collapsed_sections": [],
      "include_colab_link": true
    },
    "kernelspec": {
      "name": "python3",
      "display_name": "Python 3"
    },
    "widgets": {
      "application/vnd.jupyter.widget-state+json": {
        "8cdc6ea60cf1459f9f13ff82af1d37d2": {
          "model_module": "@jupyter-widgets/controls",
          "model_name": "HBoxModel",
          "state": {
            "_view_name": "HBoxView",
            "_dom_classes": [],
            "_model_name": "HBoxModel",
            "_view_module": "@jupyter-widgets/controls",
            "_model_module_version": "1.5.0",
            "_view_count": null,
            "_view_module_version": "1.5.0",
            "box_style": "",
            "layout": "IPY_MODEL_5999018690764f898e7c6219f619dc2f",
            "_model_module": "@jupyter-widgets/controls",
            "children": [
              "IPY_MODEL_f220d8f0d93b4be59d04c0cc236e712f",
              "IPY_MODEL_1a5cddd67c9242e999670239eb3a29ff"
            ]
          }
        },
        "5999018690764f898e7c6219f619dc2f": {
          "model_module": "@jupyter-widgets/base",
          "model_name": "LayoutModel",
          "state": {
            "_view_name": "LayoutView",
            "grid_template_rows": null,
            "right": null,
            "justify_content": null,
            "_view_module": "@jupyter-widgets/base",
            "overflow": null,
            "_model_module_version": "1.2.0",
            "_view_count": null,
            "flex_flow": null,
            "width": null,
            "min_width": null,
            "border": null,
            "align_items": null,
            "bottom": null,
            "_model_module": "@jupyter-widgets/base",
            "top": null,
            "grid_column": null,
            "overflow_y": null,
            "overflow_x": null,
            "grid_auto_flow": null,
            "grid_area": null,
            "grid_template_columns": null,
            "flex": null,
            "_model_name": "LayoutModel",
            "justify_items": null,
            "grid_row": null,
            "max_height": null,
            "align_content": null,
            "visibility": null,
            "align_self": null,
            "height": null,
            "min_height": null,
            "padding": null,
            "grid_auto_rows": null,
            "grid_gap": null,
            "max_width": null,
            "order": null,
            "_view_module_version": "1.2.0",
            "grid_template_areas": null,
            "object_position": null,
            "object_fit": null,
            "grid_auto_columns": null,
            "margin": null,
            "display": null,
            "left": null
          }
        },
        "f220d8f0d93b4be59d04c0cc236e712f": {
          "model_module": "@jupyter-widgets/controls",
          "model_name": "FloatProgressModel",
          "state": {
            "_view_name": "ProgressView",
            "style": "IPY_MODEL_6be48af4cf4e4dc9ad93bfa933efa9ee",
            "_dom_classes": [],
            "description": "Downloading: 100%",
            "_model_name": "FloatProgressModel",
            "bar_style": "success",
            "max": 1399,
            "_view_module": "@jupyter-widgets/controls",
            "_model_module_version": "1.5.0",
            "value": 1399,
            "_view_count": null,
            "_view_module_version": "1.5.0",
            "orientation": "horizontal",
            "min": 0,
            "description_tooltip": null,
            "_model_module": "@jupyter-widgets/controls",
            "layout": "IPY_MODEL_1a249efeb4814c54bad1a27b8e7f380e"
          }
        },
        "1a5cddd67c9242e999670239eb3a29ff": {
          "model_module": "@jupyter-widgets/controls",
          "model_name": "HTMLModel",
          "state": {
            "_view_name": "HTMLView",
            "style": "IPY_MODEL_1a68104fe79f499887e9ddd8218a1e76",
            "_dom_classes": [],
            "description": "",
            "_model_name": "HTMLModel",
            "placeholder": "​",
            "_view_module": "@jupyter-widgets/controls",
            "_model_module_version": "1.5.0",
            "value": " 1.40k/1.40k [01:55&lt;00:00, 12.1B/s]",
            "_view_count": null,
            "_view_module_version": "1.5.0",
            "description_tooltip": null,
            "_model_module": "@jupyter-widgets/controls",
            "layout": "IPY_MODEL_660a6ee76a51409da5e2a60d82f13e67"
          }
        },
        "6be48af4cf4e4dc9ad93bfa933efa9ee": {
          "model_module": "@jupyter-widgets/controls",
          "model_name": "ProgressStyleModel",
          "state": {
            "_view_name": "StyleView",
            "_model_name": "ProgressStyleModel",
            "description_width": "initial",
            "_view_module": "@jupyter-widgets/base",
            "_model_module_version": "1.5.0",
            "_view_count": null,
            "_view_module_version": "1.2.0",
            "bar_color": null,
            "_model_module": "@jupyter-widgets/controls"
          }
        },
        "1a249efeb4814c54bad1a27b8e7f380e": {
          "model_module": "@jupyter-widgets/base",
          "model_name": "LayoutModel",
          "state": {
            "_view_name": "LayoutView",
            "grid_template_rows": null,
            "right": null,
            "justify_content": null,
            "_view_module": "@jupyter-widgets/base",
            "overflow": null,
            "_model_module_version": "1.2.0",
            "_view_count": null,
            "flex_flow": null,
            "width": null,
            "min_width": null,
            "border": null,
            "align_items": null,
            "bottom": null,
            "_model_module": "@jupyter-widgets/base",
            "top": null,
            "grid_column": null,
            "overflow_y": null,
            "overflow_x": null,
            "grid_auto_flow": null,
            "grid_area": null,
            "grid_template_columns": null,
            "flex": null,
            "_model_name": "LayoutModel",
            "justify_items": null,
            "grid_row": null,
            "max_height": null,
            "align_content": null,
            "visibility": null,
            "align_self": null,
            "height": null,
            "min_height": null,
            "padding": null,
            "grid_auto_rows": null,
            "grid_gap": null,
            "max_width": null,
            "order": null,
            "_view_module_version": "1.2.0",
            "grid_template_areas": null,
            "object_position": null,
            "object_fit": null,
            "grid_auto_columns": null,
            "margin": null,
            "display": null,
            "left": null
          }
        },
        "1a68104fe79f499887e9ddd8218a1e76": {
          "model_module": "@jupyter-widgets/controls",
          "model_name": "DescriptionStyleModel",
          "state": {
            "_view_name": "StyleView",
            "_model_name": "DescriptionStyleModel",
            "description_width": "",
            "_view_module": "@jupyter-widgets/base",
            "_model_module_version": "1.5.0",
            "_view_count": null,
            "_view_module_version": "1.2.0",
            "_model_module": "@jupyter-widgets/controls"
          }
        },
        "660a6ee76a51409da5e2a60d82f13e67": {
          "model_module": "@jupyter-widgets/base",
          "model_name": "LayoutModel",
          "state": {
            "_view_name": "LayoutView",
            "grid_template_rows": null,
            "right": null,
            "justify_content": null,
            "_view_module": "@jupyter-widgets/base",
            "overflow": null,
            "_model_module_version": "1.2.0",
            "_view_count": null,
            "flex_flow": null,
            "width": null,
            "min_width": null,
            "border": null,
            "align_items": null,
            "bottom": null,
            "_model_module": "@jupyter-widgets/base",
            "top": null,
            "grid_column": null,
            "overflow_y": null,
            "overflow_x": null,
            "grid_auto_flow": null,
            "grid_area": null,
            "grid_template_columns": null,
            "flex": null,
            "_model_name": "LayoutModel",
            "justify_items": null,
            "grid_row": null,
            "max_height": null,
            "align_content": null,
            "visibility": null,
            "align_self": null,
            "height": null,
            "min_height": null,
            "padding": null,
            "grid_auto_rows": null,
            "grid_gap": null,
            "max_width": null,
            "order": null,
            "_view_module_version": "1.2.0",
            "grid_template_areas": null,
            "object_position": null,
            "object_fit": null,
            "grid_auto_columns": null,
            "margin": null,
            "display": null,
            "left": null
          }
        },
        "c3b47105dcb548a4ad6dda244c2cff39": {
          "model_module": "@jupyter-widgets/controls",
          "model_name": "HBoxModel",
          "state": {
            "_view_name": "HBoxView",
            "_dom_classes": [],
            "_model_name": "HBoxModel",
            "_view_module": "@jupyter-widgets/controls",
            "_model_module_version": "1.5.0",
            "_view_count": null,
            "_view_module_version": "1.5.0",
            "box_style": "",
            "layout": "IPY_MODEL_80d0ea41461c416397afece01943c05a",
            "_model_module": "@jupyter-widgets/controls",
            "children": [
              "IPY_MODEL_c26dd7d26e3f42dbada8cafdadfe1bf4",
              "IPY_MODEL_403f2207b18c4e6499bf28ed86d1e3c5"
            ]
          }
        },
        "80d0ea41461c416397afece01943c05a": {
          "model_module": "@jupyter-widgets/base",
          "model_name": "LayoutModel",
          "state": {
            "_view_name": "LayoutView",
            "grid_template_rows": null,
            "right": null,
            "justify_content": null,
            "_view_module": "@jupyter-widgets/base",
            "overflow": null,
            "_model_module_version": "1.2.0",
            "_view_count": null,
            "flex_flow": null,
            "width": null,
            "min_width": null,
            "border": null,
            "align_items": null,
            "bottom": null,
            "_model_module": "@jupyter-widgets/base",
            "top": null,
            "grid_column": null,
            "overflow_y": null,
            "overflow_x": null,
            "grid_auto_flow": null,
            "grid_area": null,
            "grid_template_columns": null,
            "flex": null,
            "_model_name": "LayoutModel",
            "justify_items": null,
            "grid_row": null,
            "max_height": null,
            "align_content": null,
            "visibility": null,
            "align_self": null,
            "height": null,
            "min_height": null,
            "padding": null,
            "grid_auto_rows": null,
            "grid_gap": null,
            "max_width": null,
            "order": null,
            "_view_module_version": "1.2.0",
            "grid_template_areas": null,
            "object_position": null,
            "object_fit": null,
            "grid_auto_columns": null,
            "margin": null,
            "display": null,
            "left": null
          }
        },
        "c26dd7d26e3f42dbada8cafdadfe1bf4": {
          "model_module": "@jupyter-widgets/controls",
          "model_name": "FloatProgressModel",
          "state": {
            "_view_name": "ProgressView",
            "style": "IPY_MODEL_02bbd39029584f9084dd12f8b03965cf",
            "_dom_classes": [],
            "description": "Downloading: 100%",
            "_model_name": "FloatProgressModel",
            "bar_style": "success",
            "max": 1625270765,
            "_view_module": "@jupyter-widgets/controls",
            "_model_module_version": "1.5.0",
            "value": 1625270765,
            "_view_count": null,
            "_view_module_version": "1.5.0",
            "orientation": "horizontal",
            "min": 0,
            "description_tooltip": null,
            "_model_module": "@jupyter-widgets/controls",
            "layout": "IPY_MODEL_6f89c2a95de54851b7bd1a61e6cf89bc"
          }
        },
        "403f2207b18c4e6499bf28ed86d1e3c5": {
          "model_module": "@jupyter-widgets/controls",
          "model_name": "HTMLModel",
          "state": {
            "_view_name": "HTMLView",
            "style": "IPY_MODEL_f98abaee90a64b1b9545c68753319b3b",
            "_dom_classes": [],
            "description": "",
            "_model_name": "HTMLModel",
            "placeholder": "​",
            "_view_module": "@jupyter-widgets/controls",
            "_model_module_version": "1.5.0",
            "value": " 1.63G/1.63G [01:33&lt;00:00, 17.4MB/s]",
            "_view_count": null,
            "_view_module_version": "1.5.0",
            "description_tooltip": null,
            "_model_module": "@jupyter-widgets/controls",
            "layout": "IPY_MODEL_f268128141ae46e3b11b33cda816d78a"
          }
        },
        "02bbd39029584f9084dd12f8b03965cf": {
          "model_module": "@jupyter-widgets/controls",
          "model_name": "ProgressStyleModel",
          "state": {
            "_view_name": "StyleView",
            "_model_name": "ProgressStyleModel",
            "description_width": "initial",
            "_view_module": "@jupyter-widgets/base",
            "_model_module_version": "1.5.0",
            "_view_count": null,
            "_view_module_version": "1.2.0",
            "bar_color": null,
            "_model_module": "@jupyter-widgets/controls"
          }
        },
        "6f89c2a95de54851b7bd1a61e6cf89bc": {
          "model_module": "@jupyter-widgets/base",
          "model_name": "LayoutModel",
          "state": {
            "_view_name": "LayoutView",
            "grid_template_rows": null,
            "right": null,
            "justify_content": null,
            "_view_module": "@jupyter-widgets/base",
            "overflow": null,
            "_model_module_version": "1.2.0",
            "_view_count": null,
            "flex_flow": null,
            "width": null,
            "min_width": null,
            "border": null,
            "align_items": null,
            "bottom": null,
            "_model_module": "@jupyter-widgets/base",
            "top": null,
            "grid_column": null,
            "overflow_y": null,
            "overflow_x": null,
            "grid_auto_flow": null,
            "grid_area": null,
            "grid_template_columns": null,
            "flex": null,
            "_model_name": "LayoutModel",
            "justify_items": null,
            "grid_row": null,
            "max_height": null,
            "align_content": null,
            "visibility": null,
            "align_self": null,
            "height": null,
            "min_height": null,
            "padding": null,
            "grid_auto_rows": null,
            "grid_gap": null,
            "max_width": null,
            "order": null,
            "_view_module_version": "1.2.0",
            "grid_template_areas": null,
            "object_position": null,
            "object_fit": null,
            "grid_auto_columns": null,
            "margin": null,
            "display": null,
            "left": null
          }
        },
        "f98abaee90a64b1b9545c68753319b3b": {
          "model_module": "@jupyter-widgets/controls",
          "model_name": "DescriptionStyleModel",
          "state": {
            "_view_name": "StyleView",
            "_model_name": "DescriptionStyleModel",
            "description_width": "",
            "_view_module": "@jupyter-widgets/base",
            "_model_module_version": "1.5.0",
            "_view_count": null,
            "_view_module_version": "1.2.0",
            "_model_module": "@jupyter-widgets/controls"
          }
        },
        "f268128141ae46e3b11b33cda816d78a": {
          "model_module": "@jupyter-widgets/base",
          "model_name": "LayoutModel",
          "state": {
            "_view_name": "LayoutView",
            "grid_template_rows": null,
            "right": null,
            "justify_content": null,
            "_view_module": "@jupyter-widgets/base",
            "overflow": null,
            "_model_module_version": "1.2.0",
            "_view_count": null,
            "flex_flow": null,
            "width": null,
            "min_width": null,
            "border": null,
            "align_items": null,
            "bottom": null,
            "_model_module": "@jupyter-widgets/base",
            "top": null,
            "grid_column": null,
            "overflow_y": null,
            "overflow_x": null,
            "grid_auto_flow": null,
            "grid_area": null,
            "grid_template_columns": null,
            "flex": null,
            "_model_name": "LayoutModel",
            "justify_items": null,
            "grid_row": null,
            "max_height": null,
            "align_content": null,
            "visibility": null,
            "align_self": null,
            "height": null,
            "min_height": null,
            "padding": null,
            "grid_auto_rows": null,
            "grid_gap": null,
            "max_width": null,
            "order": null,
            "_view_module_version": "1.2.0",
            "grid_template_areas": null,
            "object_position": null,
            "object_fit": null,
            "grid_auto_columns": null,
            "margin": null,
            "display": null,
            "left": null
          }
        },
        "68214c8095c447f0af666ccc94220080": {
          "model_module": "@jupyter-widgets/controls",
          "model_name": "HBoxModel",
          "state": {
            "_view_name": "HBoxView",
            "_dom_classes": [],
            "_model_name": "HBoxModel",
            "_view_module": "@jupyter-widgets/controls",
            "_model_module_version": "1.5.0",
            "_view_count": null,
            "_view_module_version": "1.5.0",
            "box_style": "",
            "layout": "IPY_MODEL_dcbfda3c7836488f94bb38d2ac2a93fd",
            "_model_module": "@jupyter-widgets/controls",
            "children": [
              "IPY_MODEL_dbaf8d8e23f04feaabfab10ed575527d",
              "IPY_MODEL_e0c70e5698c8438abafdcfe519482f9c"
            ]
          }
        },
        "dcbfda3c7836488f94bb38d2ac2a93fd": {
          "model_module": "@jupyter-widgets/base",
          "model_name": "LayoutModel",
          "state": {
            "_view_name": "LayoutView",
            "grid_template_rows": null,
            "right": null,
            "justify_content": null,
            "_view_module": "@jupyter-widgets/base",
            "overflow": null,
            "_model_module_version": "1.2.0",
            "_view_count": null,
            "flex_flow": null,
            "width": null,
            "min_width": null,
            "border": null,
            "align_items": null,
            "bottom": null,
            "_model_module": "@jupyter-widgets/base",
            "top": null,
            "grid_column": null,
            "overflow_y": null,
            "overflow_x": null,
            "grid_auto_flow": null,
            "grid_area": null,
            "grid_template_columns": null,
            "flex": null,
            "_model_name": "LayoutModel",
            "justify_items": null,
            "grid_row": null,
            "max_height": null,
            "align_content": null,
            "visibility": null,
            "align_self": null,
            "height": null,
            "min_height": null,
            "padding": null,
            "grid_auto_rows": null,
            "grid_gap": null,
            "max_width": null,
            "order": null,
            "_view_module_version": "1.2.0",
            "grid_template_areas": null,
            "object_position": null,
            "object_fit": null,
            "grid_auto_columns": null,
            "margin": null,
            "display": null,
            "left": null
          }
        },
        "dbaf8d8e23f04feaabfab10ed575527d": {
          "model_module": "@jupyter-widgets/controls",
          "model_name": "FloatProgressModel",
          "state": {
            "_view_name": "ProgressView",
            "style": "IPY_MODEL_84ed6a30c5b64549bb61ada12ee107b4",
            "_dom_classes": [],
            "description": "Downloading: 100%",
            "_model_name": "FloatProgressModel",
            "bar_style": "success",
            "max": 898823,
            "_view_module": "@jupyter-widgets/controls",
            "_model_module_version": "1.5.0",
            "value": 898823,
            "_view_count": null,
            "_view_module_version": "1.5.0",
            "orientation": "horizontal",
            "min": 0,
            "description_tooltip": null,
            "_model_module": "@jupyter-widgets/controls",
            "layout": "IPY_MODEL_b30e0adcfd5849b69589eaafd2b1fe75"
          }
        },
        "e0c70e5698c8438abafdcfe519482f9c": {
          "model_module": "@jupyter-widgets/controls",
          "model_name": "HTMLModel",
          "state": {
            "_view_name": "HTMLView",
            "style": "IPY_MODEL_d4b39da937cf4f71a6a7480912fe636d",
            "_dom_classes": [],
            "description": "",
            "_model_name": "HTMLModel",
            "placeholder": "​",
            "_view_module": "@jupyter-widgets/controls",
            "_model_module_version": "1.5.0",
            "value": " 899k/899k [00:01&lt;00:00, 788kB/s]",
            "_view_count": null,
            "_view_module_version": "1.5.0",
            "description_tooltip": null,
            "_model_module": "@jupyter-widgets/controls",
            "layout": "IPY_MODEL_04458dc916fa414e82cdc9685c44396f"
          }
        },
        "84ed6a30c5b64549bb61ada12ee107b4": {
          "model_module": "@jupyter-widgets/controls",
          "model_name": "ProgressStyleModel",
          "state": {
            "_view_name": "StyleView",
            "_model_name": "ProgressStyleModel",
            "description_width": "initial",
            "_view_module": "@jupyter-widgets/base",
            "_model_module_version": "1.5.0",
            "_view_count": null,
            "_view_module_version": "1.2.0",
            "bar_color": null,
            "_model_module": "@jupyter-widgets/controls"
          }
        },
        "b30e0adcfd5849b69589eaafd2b1fe75": {
          "model_module": "@jupyter-widgets/base",
          "model_name": "LayoutModel",
          "state": {
            "_view_name": "LayoutView",
            "grid_template_rows": null,
            "right": null,
            "justify_content": null,
            "_view_module": "@jupyter-widgets/base",
            "overflow": null,
            "_model_module_version": "1.2.0",
            "_view_count": null,
            "flex_flow": null,
            "width": null,
            "min_width": null,
            "border": null,
            "align_items": null,
            "bottom": null,
            "_model_module": "@jupyter-widgets/base",
            "top": null,
            "grid_column": null,
            "overflow_y": null,
            "overflow_x": null,
            "grid_auto_flow": null,
            "grid_area": null,
            "grid_template_columns": null,
            "flex": null,
            "_model_name": "LayoutModel",
            "justify_items": null,
            "grid_row": null,
            "max_height": null,
            "align_content": null,
            "visibility": null,
            "align_self": null,
            "height": null,
            "min_height": null,
            "padding": null,
            "grid_auto_rows": null,
            "grid_gap": null,
            "max_width": null,
            "order": null,
            "_view_module_version": "1.2.0",
            "grid_template_areas": null,
            "object_position": null,
            "object_fit": null,
            "grid_auto_columns": null,
            "margin": null,
            "display": null,
            "left": null
          }
        },
        "d4b39da937cf4f71a6a7480912fe636d": {
          "model_module": "@jupyter-widgets/controls",
          "model_name": "DescriptionStyleModel",
          "state": {
            "_view_name": "StyleView",
            "_model_name": "DescriptionStyleModel",
            "description_width": "",
            "_view_module": "@jupyter-widgets/base",
            "_model_module_version": "1.5.0",
            "_view_count": null,
            "_view_module_version": "1.2.0",
            "_model_module": "@jupyter-widgets/controls"
          }
        },
        "04458dc916fa414e82cdc9685c44396f": {
          "model_module": "@jupyter-widgets/base",
          "model_name": "LayoutModel",
          "state": {
            "_view_name": "LayoutView",
            "grid_template_rows": null,
            "right": null,
            "justify_content": null,
            "_view_module": "@jupyter-widgets/base",
            "overflow": null,
            "_model_module_version": "1.2.0",
            "_view_count": null,
            "flex_flow": null,
            "width": null,
            "min_width": null,
            "border": null,
            "align_items": null,
            "bottom": null,
            "_model_module": "@jupyter-widgets/base",
            "top": null,
            "grid_column": null,
            "overflow_y": null,
            "overflow_x": null,
            "grid_auto_flow": null,
            "grid_area": null,
            "grid_template_columns": null,
            "flex": null,
            "_model_name": "LayoutModel",
            "justify_items": null,
            "grid_row": null,
            "max_height": null,
            "align_content": null,
            "visibility": null,
            "align_self": null,
            "height": null,
            "min_height": null,
            "padding": null,
            "grid_auto_rows": null,
            "grid_gap": null,
            "max_width": null,
            "order": null,
            "_view_module_version": "1.2.0",
            "grid_template_areas": null,
            "object_position": null,
            "object_fit": null,
            "grid_auto_columns": null,
            "margin": null,
            "display": null,
            "left": null
          }
        },
        "4c16c8ccea6c4a2f99e5737cd88495f7": {
          "model_module": "@jupyter-widgets/controls",
          "model_name": "HBoxModel",
          "state": {
            "_view_name": "HBoxView",
            "_dom_classes": [],
            "_model_name": "HBoxModel",
            "_view_module": "@jupyter-widgets/controls",
            "_model_module_version": "1.5.0",
            "_view_count": null,
            "_view_module_version": "1.5.0",
            "box_style": "",
            "layout": "IPY_MODEL_59dee3b0b2ae48ff815985467e0f23aa",
            "_model_module": "@jupyter-widgets/controls",
            "children": [
              "IPY_MODEL_be64cd87f6174feaad6083fe69cb0865",
              "IPY_MODEL_d99f76868f3d4a1295ca0e04539f84c6"
            ]
          }
        },
        "59dee3b0b2ae48ff815985467e0f23aa": {
          "model_module": "@jupyter-widgets/base",
          "model_name": "LayoutModel",
          "state": {
            "_view_name": "LayoutView",
            "grid_template_rows": null,
            "right": null,
            "justify_content": null,
            "_view_module": "@jupyter-widgets/base",
            "overflow": null,
            "_model_module_version": "1.2.0",
            "_view_count": null,
            "flex_flow": null,
            "width": null,
            "min_width": null,
            "border": null,
            "align_items": null,
            "bottom": null,
            "_model_module": "@jupyter-widgets/base",
            "top": null,
            "grid_column": null,
            "overflow_y": null,
            "overflow_x": null,
            "grid_auto_flow": null,
            "grid_area": null,
            "grid_template_columns": null,
            "flex": null,
            "_model_name": "LayoutModel",
            "justify_items": null,
            "grid_row": null,
            "max_height": null,
            "align_content": null,
            "visibility": null,
            "align_self": null,
            "height": null,
            "min_height": null,
            "padding": null,
            "grid_auto_rows": null,
            "grid_gap": null,
            "max_width": null,
            "order": null,
            "_view_module_version": "1.2.0",
            "grid_template_areas": null,
            "object_position": null,
            "object_fit": null,
            "grid_auto_columns": null,
            "margin": null,
            "display": null,
            "left": null
          }
        },
        "be64cd87f6174feaad6083fe69cb0865": {
          "model_module": "@jupyter-widgets/controls",
          "model_name": "FloatProgressModel",
          "state": {
            "_view_name": "ProgressView",
            "style": "IPY_MODEL_4214cad4511b4807b26b999e3ebee770",
            "_dom_classes": [],
            "description": "Downloading: 100%",
            "_model_name": "FloatProgressModel",
            "bar_style": "success",
            "max": 456318,
            "_view_module": "@jupyter-widgets/controls",
            "_model_module_version": "1.5.0",
            "value": 456318,
            "_view_count": null,
            "_view_module_version": "1.5.0",
            "orientation": "horizontal",
            "min": 0,
            "description_tooltip": null,
            "_model_module": "@jupyter-widgets/controls",
            "layout": "IPY_MODEL_07f86b7738bc44dcace1cf6f180156b4"
          }
        },
        "d99f76868f3d4a1295ca0e04539f84c6": {
          "model_module": "@jupyter-widgets/controls",
          "model_name": "HTMLModel",
          "state": {
            "_view_name": "HTMLView",
            "style": "IPY_MODEL_9fbbfe8654144fc9a7579dc2f1feb2c1",
            "_dom_classes": [],
            "description": "",
            "_model_name": "HTMLModel",
            "placeholder": "​",
            "_view_module": "@jupyter-widgets/controls",
            "_model_module_version": "1.5.0",
            "value": " 456k/456k [00:00&lt;00:00, 1.25MB/s]",
            "_view_count": null,
            "_view_module_version": "1.5.0",
            "description_tooltip": null,
            "_model_module": "@jupyter-widgets/controls",
            "layout": "IPY_MODEL_03834d2f419c46768d1f7db6831b4bd8"
          }
        },
        "4214cad4511b4807b26b999e3ebee770": {
          "model_module": "@jupyter-widgets/controls",
          "model_name": "ProgressStyleModel",
          "state": {
            "_view_name": "StyleView",
            "_model_name": "ProgressStyleModel",
            "description_width": "initial",
            "_view_module": "@jupyter-widgets/base",
            "_model_module_version": "1.5.0",
            "_view_count": null,
            "_view_module_version": "1.2.0",
            "bar_color": null,
            "_model_module": "@jupyter-widgets/controls"
          }
        },
        "07f86b7738bc44dcace1cf6f180156b4": {
          "model_module": "@jupyter-widgets/base",
          "model_name": "LayoutModel",
          "state": {
            "_view_name": "LayoutView",
            "grid_template_rows": null,
            "right": null,
            "justify_content": null,
            "_view_module": "@jupyter-widgets/base",
            "overflow": null,
            "_model_module_version": "1.2.0",
            "_view_count": null,
            "flex_flow": null,
            "width": null,
            "min_width": null,
            "border": null,
            "align_items": null,
            "bottom": null,
            "_model_module": "@jupyter-widgets/base",
            "top": null,
            "grid_column": null,
            "overflow_y": null,
            "overflow_x": null,
            "grid_auto_flow": null,
            "grid_area": null,
            "grid_template_columns": null,
            "flex": null,
            "_model_name": "LayoutModel",
            "justify_items": null,
            "grid_row": null,
            "max_height": null,
            "align_content": null,
            "visibility": null,
            "align_self": null,
            "height": null,
            "min_height": null,
            "padding": null,
            "grid_auto_rows": null,
            "grid_gap": null,
            "max_width": null,
            "order": null,
            "_view_module_version": "1.2.0",
            "grid_template_areas": null,
            "object_position": null,
            "object_fit": null,
            "grid_auto_columns": null,
            "margin": null,
            "display": null,
            "left": null
          }
        },
        "9fbbfe8654144fc9a7579dc2f1feb2c1": {
          "model_module": "@jupyter-widgets/controls",
          "model_name": "DescriptionStyleModel",
          "state": {
            "_view_name": "StyleView",
            "_model_name": "DescriptionStyleModel",
            "description_width": "",
            "_view_module": "@jupyter-widgets/base",
            "_model_module_version": "1.5.0",
            "_view_count": null,
            "_view_module_version": "1.2.0",
            "_model_module": "@jupyter-widgets/controls"
          }
        },
        "03834d2f419c46768d1f7db6831b4bd8": {
          "model_module": "@jupyter-widgets/base",
          "model_name": "LayoutModel",
          "state": {
            "_view_name": "LayoutView",
            "grid_template_rows": null,
            "right": null,
            "justify_content": null,
            "_view_module": "@jupyter-widgets/base",
            "overflow": null,
            "_model_module_version": "1.2.0",
            "_view_count": null,
            "flex_flow": null,
            "width": null,
            "min_width": null,
            "border": null,
            "align_items": null,
            "bottom": null,
            "_model_module": "@jupyter-widgets/base",
            "top": null,
            "grid_column": null,
            "overflow_y": null,
            "overflow_x": null,
            "grid_auto_flow": null,
            "grid_area": null,
            "grid_template_columns": null,
            "flex": null,
            "_model_name": "LayoutModel",
            "justify_items": null,
            "grid_row": null,
            "max_height": null,
            "align_content": null,
            "visibility": null,
            "align_self": null,
            "height": null,
            "min_height": null,
            "padding": null,
            "grid_auto_rows": null,
            "grid_gap": null,
            "max_width": null,
            "order": null,
            "_view_module_version": "1.2.0",
            "grid_template_areas": null,
            "object_position": null,
            "object_fit": null,
            "grid_auto_columns": null,
            "margin": null,
            "display": null,
            "left": null
          }
        }
      }
    }
  },
  "cells": [
    {
      "cell_type": "markdown",
      "metadata": {
        "id": "view-in-github",
        "colab_type": "text"
      },
      "source": [
        "<a href=\"https://colab.research.google.com/github/chetan01101993/HousePricePrediction/blob/master/Profile_Summarizer_Table.ipynb\" target=\"_parent\"><img src=\"https://colab.research.google.com/assets/colab-badge.svg\" alt=\"Open In Colab\"/></a>"
      ]
    },
    {
      "cell_type": "code",
      "metadata": {
        "id": "kpctkg-prb9i",
        "colab": {
          "base_uri": "https://localhost:8080/"
        },
        "outputId": "ddfc2aa3-01a0-499f-f880-1bd466e8d0ac"
      },
      "source": [
        "!pip install tensorflow\n",
        "!pip install transformers\n",
        "!python -m spacy download en_core_web_lg"
      ],
      "execution_count": null,
      "outputs": [
        {
          "output_type": "stream",
          "text": [
            "Requirement already satisfied: tensorflow in /usr/local/lib/python3.6/dist-packages (2.4.1)\n",
            "Requirement already satisfied: tensorboard~=2.4 in /usr/local/lib/python3.6/dist-packages (from tensorflow) (2.4.1)\n",
            "Requirement already satisfied: wheel~=0.35 in /usr/local/lib/python3.6/dist-packages (from tensorflow) (0.36.2)\n",
            "Requirement already satisfied: opt-einsum~=3.3.0 in /usr/local/lib/python3.6/dist-packages (from tensorflow) (3.3.0)\n",
            "Requirement already satisfied: wrapt~=1.12.1 in /usr/local/lib/python3.6/dist-packages (from tensorflow) (1.12.1)\n",
            "Requirement already satisfied: gast==0.3.3 in /usr/local/lib/python3.6/dist-packages (from tensorflow) (0.3.3)\n",
            "Requirement already satisfied: astunparse~=1.6.3 in /usr/local/lib/python3.6/dist-packages (from tensorflow) (1.6.3)\n",
            "Requirement already satisfied: numpy~=1.19.2 in /usr/local/lib/python3.6/dist-packages (from tensorflow) (1.19.5)\n",
            "Requirement already satisfied: flatbuffers~=1.12.0 in /usr/local/lib/python3.6/dist-packages (from tensorflow) (1.12)\n",
            "Requirement already satisfied: termcolor~=1.1.0 in /usr/local/lib/python3.6/dist-packages (from tensorflow) (1.1.0)\n",
            "Requirement already satisfied: tensorflow-estimator<2.5.0,>=2.4.0 in /usr/local/lib/python3.6/dist-packages (from tensorflow) (2.4.0)\n",
            "Requirement already satisfied: six~=1.15.0 in /usr/local/lib/python3.6/dist-packages (from tensorflow) (1.15.0)\n",
            "Requirement already satisfied: keras-preprocessing~=1.1.2 in /usr/local/lib/python3.6/dist-packages (from tensorflow) (1.1.2)\n",
            "Requirement already satisfied: typing-extensions~=3.7.4 in /usr/local/lib/python3.6/dist-packages (from tensorflow) (3.7.4.3)\n",
            "Requirement already satisfied: protobuf>=3.9.2 in /usr/local/lib/python3.6/dist-packages (from tensorflow) (3.12.4)\n",
            "Requirement already satisfied: grpcio~=1.32.0 in /usr/local/lib/python3.6/dist-packages (from tensorflow) (1.32.0)\n",
            "Requirement already satisfied: h5py~=2.10.0 in /usr/local/lib/python3.6/dist-packages (from tensorflow) (2.10.0)\n",
            "Requirement already satisfied: google-pasta~=0.2 in /usr/local/lib/python3.6/dist-packages (from tensorflow) (0.2.0)\n",
            "Requirement already satisfied: absl-py~=0.10 in /usr/local/lib/python3.6/dist-packages (from tensorflow) (0.10.0)\n",
            "Requirement already satisfied: google-auth<2,>=1.6.3 in /usr/local/lib/python3.6/dist-packages (from tensorboard~=2.4->tensorflow) (1.25.0)\n",
            "Requirement already satisfied: google-auth-oauthlib<0.5,>=0.4.1 in /usr/local/lib/python3.6/dist-packages (from tensorboard~=2.4->tensorflow) (0.4.2)\n",
            "Requirement already satisfied: werkzeug>=0.11.15 in /usr/local/lib/python3.6/dist-packages (from tensorboard~=2.4->tensorflow) (1.0.1)\n",
            "Requirement already satisfied: requests<3,>=2.21.0 in /usr/local/lib/python3.6/dist-packages (from tensorboard~=2.4->tensorflow) (2.23.0)\n",
            "Requirement already satisfied: tensorboard-plugin-wit>=1.6.0 in /usr/local/lib/python3.6/dist-packages (from tensorboard~=2.4->tensorflow) (1.8.0)\n",
            "Requirement already satisfied: setuptools>=41.0.0 in /usr/local/lib/python3.6/dist-packages (from tensorboard~=2.4->tensorflow) (53.0.0)\n",
            "Requirement already satisfied: markdown>=2.6.8 in /usr/local/lib/python3.6/dist-packages (from tensorboard~=2.4->tensorflow) (3.3.3)\n",
            "Requirement already satisfied: pyasn1-modules>=0.2.1 in /usr/local/lib/python3.6/dist-packages (from google-auth<2,>=1.6.3->tensorboard~=2.4->tensorflow) (0.2.8)\n",
            "Requirement already satisfied: rsa<5,>=3.1.4; python_version >= \"3.6\" in /usr/local/lib/python3.6/dist-packages (from google-auth<2,>=1.6.3->tensorboard~=2.4->tensorflow) (4.7)\n",
            "Requirement already satisfied: cachetools<5.0,>=2.0.0 in /usr/local/lib/python3.6/dist-packages (from google-auth<2,>=1.6.3->tensorboard~=2.4->tensorflow) (4.2.1)\n",
            "Requirement already satisfied: requests-oauthlib>=0.7.0 in /usr/local/lib/python3.6/dist-packages (from google-auth-oauthlib<0.5,>=0.4.1->tensorboard~=2.4->tensorflow) (1.3.0)\n",
            "Requirement already satisfied: urllib3!=1.25.0,!=1.25.1,<1.26,>=1.21.1 in /usr/local/lib/python3.6/dist-packages (from requests<3,>=2.21.0->tensorboard~=2.4->tensorflow) (1.24.3)\n",
            "Requirement already satisfied: certifi>=2017.4.17 in /usr/local/lib/python3.6/dist-packages (from requests<3,>=2.21.0->tensorboard~=2.4->tensorflow) (2020.12.5)\n",
            "Requirement already satisfied: chardet<4,>=3.0.2 in /usr/local/lib/python3.6/dist-packages (from requests<3,>=2.21.0->tensorboard~=2.4->tensorflow) (3.0.4)\n",
            "Requirement already satisfied: idna<3,>=2.5 in /usr/local/lib/python3.6/dist-packages (from requests<3,>=2.21.0->tensorboard~=2.4->tensorflow) (2.10)\n",
            "Requirement already satisfied: importlib-metadata; python_version < \"3.8\" in /usr/local/lib/python3.6/dist-packages (from markdown>=2.6.8->tensorboard~=2.4->tensorflow) (3.4.0)\n",
            "Requirement already satisfied: pyasn1<0.5.0,>=0.4.6 in /usr/local/lib/python3.6/dist-packages (from pyasn1-modules>=0.2.1->google-auth<2,>=1.6.3->tensorboard~=2.4->tensorflow) (0.4.8)\n",
            "Requirement already satisfied: oauthlib>=3.0.0 in /usr/local/lib/python3.6/dist-packages (from requests-oauthlib>=0.7.0->google-auth-oauthlib<0.5,>=0.4.1->tensorboard~=2.4->tensorflow) (3.1.0)\n",
            "Requirement already satisfied: zipp>=0.5 in /usr/local/lib/python3.6/dist-packages (from importlib-metadata; python_version < \"3.8\"->markdown>=2.6.8->tensorboard~=2.4->tensorflow) (3.4.0)\n",
            "Collecting transformers\n",
            "\u001b[?25l  Downloading https://files.pythonhosted.org/packages/98/87/ef312eef26f5cecd8b17ae9654cdd8d1fae1eb6dbd87257d6d73c128a4d0/transformers-4.3.2-py3-none-any.whl (1.8MB)\n",
            "\u001b[K     |████████████████████████████████| 1.8MB 8.0MB/s \n",
            "\u001b[?25hCollecting sacremoses\n",
            "\u001b[?25l  Downloading https://files.pythonhosted.org/packages/7d/34/09d19aff26edcc8eb2a01bed8e98f13a1537005d31e95233fd48216eed10/sacremoses-0.0.43.tar.gz (883kB)\n",
            "\u001b[K     |████████████████████████████████| 890kB 27.4MB/s \n",
            "\u001b[?25hRequirement already satisfied: numpy>=1.17 in /usr/local/lib/python3.6/dist-packages (from transformers) (1.19.5)\n",
            "Requirement already satisfied: filelock in /usr/local/lib/python3.6/dist-packages (from transformers) (3.0.12)\n",
            "Requirement already satisfied: packaging in /usr/local/lib/python3.6/dist-packages (from transformers) (20.9)\n",
            "Requirement already satisfied: regex!=2019.12.17 in /usr/local/lib/python3.6/dist-packages (from transformers) (2019.12.20)\n",
            "Requirement already satisfied: dataclasses; python_version < \"3.7\" in /usr/local/lib/python3.6/dist-packages (from transformers) (0.8)\n",
            "Requirement already satisfied: tqdm>=4.27 in /usr/local/lib/python3.6/dist-packages (from transformers) (4.41.1)\n",
            "Requirement already satisfied: importlib-metadata; python_version < \"3.8\" in /usr/local/lib/python3.6/dist-packages (from transformers) (3.4.0)\n",
            "Collecting tokenizers<0.11,>=0.10.1\n",
            "\u001b[?25l  Downloading https://files.pythonhosted.org/packages/fd/5b/44baae602e0a30bcc53fbdbc60bd940c15e143d252d658dfdefce736ece5/tokenizers-0.10.1-cp36-cp36m-manylinux2010_x86_64.whl (3.2MB)\n",
            "\u001b[K     |████████████████████████████████| 3.2MB 47.5MB/s \n",
            "\u001b[?25hRequirement already satisfied: requests in /usr/local/lib/python3.6/dist-packages (from transformers) (2.23.0)\n",
            "Requirement already satisfied: six in /usr/local/lib/python3.6/dist-packages (from sacremoses->transformers) (1.15.0)\n",
            "Requirement already satisfied: click in /usr/local/lib/python3.6/dist-packages (from sacremoses->transformers) (7.1.2)\n",
            "Requirement already satisfied: joblib in /usr/local/lib/python3.6/dist-packages (from sacremoses->transformers) (1.0.0)\n",
            "Requirement already satisfied: pyparsing>=2.0.2 in /usr/local/lib/python3.6/dist-packages (from packaging->transformers) (2.4.7)\n",
            "Requirement already satisfied: zipp>=0.5 in /usr/local/lib/python3.6/dist-packages (from importlib-metadata; python_version < \"3.8\"->transformers) (3.4.0)\n",
            "Requirement already satisfied: typing-extensions>=3.6.4; python_version < \"3.8\" in /usr/local/lib/python3.6/dist-packages (from importlib-metadata; python_version < \"3.8\"->transformers) (3.7.4.3)\n",
            "Requirement already satisfied: idna<3,>=2.5 in /usr/local/lib/python3.6/dist-packages (from requests->transformers) (2.10)\n",
            "Requirement already satisfied: urllib3!=1.25.0,!=1.25.1,<1.26,>=1.21.1 in /usr/local/lib/python3.6/dist-packages (from requests->transformers) (1.24.3)\n",
            "Requirement already satisfied: certifi>=2017.4.17 in /usr/local/lib/python3.6/dist-packages (from requests->transformers) (2020.12.5)\n",
            "Requirement already satisfied: chardet<4,>=3.0.2 in /usr/local/lib/python3.6/dist-packages (from requests->transformers) (3.0.4)\n",
            "Building wheels for collected packages: sacremoses\n",
            "  Building wheel for sacremoses (setup.py) ... \u001b[?25l\u001b[?25hdone\n",
            "  Created wheel for sacremoses: filename=sacremoses-0.0.43-cp36-none-any.whl size=893261 sha256=ca349f0af7a3ebe3c1f185347b2b1b2fa93680c67cc106c3ce2a8960c1bd1272\n",
            "  Stored in directory: /root/.cache/pip/wheels/29/3c/fd/7ce5c3f0666dab31a50123635e6fb5e19ceb42ce38d4e58f45\n",
            "Successfully built sacremoses\n",
            "Installing collected packages: sacremoses, tokenizers, transformers\n",
            "Successfully installed sacremoses-0.0.43 tokenizers-0.10.1 transformers-4.3.2\n",
            "Collecting en_core_web_lg==2.2.5\n",
            "\u001b[?25l  Downloading https://github.com/explosion/spacy-models/releases/download/en_core_web_lg-2.2.5/en_core_web_lg-2.2.5.tar.gz (827.9MB)\n",
            "\u001b[K     |████████████████████████████████| 827.9MB 1.2MB/s \n",
            "\u001b[?25hRequirement already satisfied: spacy>=2.2.2 in /usr/local/lib/python3.6/dist-packages (from en_core_web_lg==2.2.5) (2.2.4)\n",
            "Requirement already satisfied: numpy>=1.15.0 in /usr/local/lib/python3.6/dist-packages (from spacy>=2.2.2->en_core_web_lg==2.2.5) (1.19.5)\n",
            "Requirement already satisfied: murmurhash<1.1.0,>=0.28.0 in /usr/local/lib/python3.6/dist-packages (from spacy>=2.2.2->en_core_web_lg==2.2.5) (1.0.5)\n",
            "Requirement already satisfied: plac<1.2.0,>=0.9.6 in /usr/local/lib/python3.6/dist-packages (from spacy>=2.2.2->en_core_web_lg==2.2.5) (1.1.3)\n",
            "Requirement already satisfied: setuptools in /usr/local/lib/python3.6/dist-packages (from spacy>=2.2.2->en_core_web_lg==2.2.5) (53.0.0)\n",
            "Requirement already satisfied: wasabi<1.1.0,>=0.4.0 in /usr/local/lib/python3.6/dist-packages (from spacy>=2.2.2->en_core_web_lg==2.2.5) (0.8.2)\n",
            "Requirement already satisfied: thinc==7.4.0 in /usr/local/lib/python3.6/dist-packages (from spacy>=2.2.2->en_core_web_lg==2.2.5) (7.4.0)\n",
            "Requirement already satisfied: requests<3.0.0,>=2.13.0 in /usr/local/lib/python3.6/dist-packages (from spacy>=2.2.2->en_core_web_lg==2.2.5) (2.23.0)\n",
            "Requirement already satisfied: cymem<2.1.0,>=2.0.2 in /usr/local/lib/python3.6/dist-packages (from spacy>=2.2.2->en_core_web_lg==2.2.5) (2.0.5)\n",
            "Requirement already satisfied: preshed<3.1.0,>=3.0.2 in /usr/local/lib/python3.6/dist-packages (from spacy>=2.2.2->en_core_web_lg==2.2.5) (3.0.5)\n",
            "Requirement already satisfied: tqdm<5.0.0,>=4.38.0 in /usr/local/lib/python3.6/dist-packages (from spacy>=2.2.2->en_core_web_lg==2.2.5) (4.41.1)\n",
            "Requirement already satisfied: blis<0.5.0,>=0.4.0 in /usr/local/lib/python3.6/dist-packages (from spacy>=2.2.2->en_core_web_lg==2.2.5) (0.4.1)\n",
            "Requirement already satisfied: catalogue<1.1.0,>=0.0.7 in /usr/local/lib/python3.6/dist-packages (from spacy>=2.2.2->en_core_web_lg==2.2.5) (1.0.0)\n",
            "Requirement already satisfied: srsly<1.1.0,>=1.0.2 in /usr/local/lib/python3.6/dist-packages (from spacy>=2.2.2->en_core_web_lg==2.2.5) (1.0.5)\n",
            "Requirement already satisfied: urllib3!=1.25.0,!=1.25.1,<1.26,>=1.21.1 in /usr/local/lib/python3.6/dist-packages (from requests<3.0.0,>=2.13.0->spacy>=2.2.2->en_core_web_lg==2.2.5) (1.24.3)\n",
            "Requirement already satisfied: chardet<4,>=3.0.2 in /usr/local/lib/python3.6/dist-packages (from requests<3.0.0,>=2.13.0->spacy>=2.2.2->en_core_web_lg==2.2.5) (3.0.4)\n",
            "Requirement already satisfied: certifi>=2017.4.17 in /usr/local/lib/python3.6/dist-packages (from requests<3.0.0,>=2.13.0->spacy>=2.2.2->en_core_web_lg==2.2.5) (2020.12.5)\n",
            "Requirement already satisfied: idna<3,>=2.5 in /usr/local/lib/python3.6/dist-packages (from requests<3.0.0,>=2.13.0->spacy>=2.2.2->en_core_web_lg==2.2.5) (2.10)\n",
            "Requirement already satisfied: importlib-metadata>=0.20; python_version < \"3.8\" in /usr/local/lib/python3.6/dist-packages (from catalogue<1.1.0,>=0.0.7->spacy>=2.2.2->en_core_web_lg==2.2.5) (3.4.0)\n",
            "Requirement already satisfied: zipp>=0.5 in /usr/local/lib/python3.6/dist-packages (from importlib-metadata>=0.20; python_version < \"3.8\"->catalogue<1.1.0,>=0.0.7->spacy>=2.2.2->en_core_web_lg==2.2.5) (3.4.0)\n",
            "Requirement already satisfied: typing-extensions>=3.6.4; python_version < \"3.8\" in /usr/local/lib/python3.6/dist-packages (from importlib-metadata>=0.20; python_version < \"3.8\"->catalogue<1.1.0,>=0.0.7->spacy>=2.2.2->en_core_web_lg==2.2.5) (3.7.4.3)\n",
            "Building wheels for collected packages: en-core-web-lg\n",
            "  Building wheel for en-core-web-lg (setup.py) ... \u001b[?25l\u001b[?25hdone\n",
            "  Created wheel for en-core-web-lg: filename=en_core_web_lg-2.2.5-cp36-none-any.whl size=829180945 sha256=40320c50cbdaed99830f442592e918e74a5cc84463d08a95885f286cf2ad1100\n",
            "  Stored in directory: /tmp/pip-ephem-wheel-cache-6f6c92je/wheels/2a/c1/a6/fc7a877b1efca9bc6a089d6f506f16d3868408f9ff89f8dbfc\n",
            "Successfully built en-core-web-lg\n",
            "Installing collected packages: en-core-web-lg\n",
            "Successfully installed en-core-web-lg-2.2.5\n",
            "\u001b[38;5;2m✔ Download and installation successful\u001b[0m\n",
            "You can now load the model via spacy.load('en_core_web_lg')\n"
          ],
          "name": "stdout"
        }
      ]
    },
    {
      "cell_type": "code",
      "metadata": {
        "colab": {
          "base_uri": "https://localhost:8080/"
        },
        "id": "jvbnkUyWMvmq",
        "outputId": "8d530199-7ea0-4f3d-e919-983702f17142"
      },
      "source": [
        "!pip install mysql-connector-python"
      ],
      "execution_count": null,
      "outputs": [
        {
          "output_type": "stream",
          "text": [
            "Collecting mysql-connector-python\n",
            "\u001b[?25l  Downloading https://files.pythonhosted.org/packages/cc/ec/102bf59d0cdeb3b8fc82d6669bf96d57d133e44811ff57ad5e941bd8588d/mysql_connector_python-8.0.23-cp36-cp36m-manylinux1_x86_64.whl (18.0MB)\n",
            "\u001b[K     |████████████████████████████████| 18.1MB 56.9MB/s \n",
            "\u001b[?25hRequirement already satisfied: protobuf>=3.0.0 in /usr/local/lib/python3.6/dist-packages (from mysql-connector-python) (3.12.4)\n",
            "Requirement already satisfied: setuptools in /usr/local/lib/python3.6/dist-packages (from protobuf>=3.0.0->mysql-connector-python) (53.0.0)\n",
            "Requirement already satisfied: six>=1.9 in /usr/local/lib/python3.6/dist-packages (from protobuf>=3.0.0->mysql-connector-python) (1.15.0)\n",
            "Installing collected packages: mysql-connector-python\n",
            "Successfully installed mysql-connector-python-8.0.23\n"
          ],
          "name": "stdout"
        }
      ]
    },
    {
      "cell_type": "code",
      "metadata": {
        "id": "x0FI2_COrwQ4"
      },
      "source": [
        "from transformers import BartTokenizer, BartConfig, BartForConditionalGeneration\n",
        "import pprint\n",
        "import en_core_web_lg \n",
        "from nltk.tokenize import word_tokenize, sent_tokenize, PunktSentenceTokenizer\n",
        "import re \n",
        "import pandas as pd\n",
        "from google.colab import files\n",
        "import io\n",
        "import numpy as np\n",
        "import mysql.connector as mysql   \n",
        "import time"
      ],
      "execution_count": null,
      "outputs": []
    },
    {
      "cell_type": "code",
      "metadata": {
        "id": "uECqm1jkNhit"
      },
      "source": [
        "from configparser import ConfigParser\n",
        "config = ConfigParser()"
      ],
      "execution_count": null,
      "outputs": []
    },
    {
      "cell_type": "code",
      "metadata": {
        "id": "puHhamDFr0jC",
        "colab": {
          "base_uri": "https://localhost:8080/",
          "height": 215,
          "referenced_widgets": [
            "8cdc6ea60cf1459f9f13ff82af1d37d2",
            "5999018690764f898e7c6219f619dc2f",
            "f220d8f0d93b4be59d04c0cc236e712f",
            "1a5cddd67c9242e999670239eb3a29ff",
            "6be48af4cf4e4dc9ad93bfa933efa9ee",
            "1a249efeb4814c54bad1a27b8e7f380e",
            "1a68104fe79f499887e9ddd8218a1e76",
            "660a6ee76a51409da5e2a60d82f13e67",
            "c3b47105dcb548a4ad6dda244c2cff39",
            "80d0ea41461c416397afece01943c05a",
            "c26dd7d26e3f42dbada8cafdadfe1bf4",
            "403f2207b18c4e6499bf28ed86d1e3c5",
            "02bbd39029584f9084dd12f8b03965cf",
            "6f89c2a95de54851b7bd1a61e6cf89bc",
            "f98abaee90a64b1b9545c68753319b3b",
            "f268128141ae46e3b11b33cda816d78a",
            "68214c8095c447f0af666ccc94220080",
            "dcbfda3c7836488f94bb38d2ac2a93fd",
            "dbaf8d8e23f04feaabfab10ed575527d",
            "e0c70e5698c8438abafdcfe519482f9c",
            "84ed6a30c5b64549bb61ada12ee107b4",
            "b30e0adcfd5849b69589eaafd2b1fe75",
            "d4b39da937cf4f71a6a7480912fe636d",
            "04458dc916fa414e82cdc9685c44396f",
            "4c16c8ccea6c4a2f99e5737cd88495f7",
            "59dee3b0b2ae48ff815985467e0f23aa",
            "be64cd87f6174feaad6083fe69cb0865",
            "d99f76868f3d4a1295ca0e04539f84c6",
            "4214cad4511b4807b26b999e3ebee770",
            "07f86b7738bc44dcace1cf6f180156b4",
            "9fbbfe8654144fc9a7579dc2f1feb2c1",
            "03834d2f419c46768d1f7db6831b4bd8"
          ]
        },
        "outputId": "66c8c1fe-1678-41a7-a62e-a1ae4664bd48"
      },
      "source": [
        "model = BartForConditionalGeneration.from_pretrained('facebook/bart-large-cnn')\n",
        "tokenizer = BartTokenizer.from_pretrained('facebook/bart-large-cnn')\n",
        "nlp = en_core_web_lg.load()"
      ],
      "execution_count": null,
      "outputs": [
        {
          "output_type": "display_data",
          "data": {
            "application/vnd.jupyter.widget-view+json": {
              "model_id": "8cdc6ea60cf1459f9f13ff82af1d37d2",
              "version_minor": 0,
              "version_major": 2
            },
            "text/plain": [
              "HBox(children=(FloatProgress(value=0.0, description='Downloading', max=1399.0, style=ProgressStyle(description…"
            ]
          },
          "metadata": {
            "tags": []
          }
        },
        {
          "output_type": "stream",
          "text": [
            "\n"
          ],
          "name": "stdout"
        },
        {
          "output_type": "display_data",
          "data": {
            "application/vnd.jupyter.widget-view+json": {
              "model_id": "c3b47105dcb548a4ad6dda244c2cff39",
              "version_minor": 0,
              "version_major": 2
            },
            "text/plain": [
              "HBox(children=(FloatProgress(value=0.0, description='Downloading', max=1625270765.0, style=ProgressStyle(descr…"
            ]
          },
          "metadata": {
            "tags": []
          }
        },
        {
          "output_type": "stream",
          "text": [
            "\n"
          ],
          "name": "stdout"
        },
        {
          "output_type": "display_data",
          "data": {
            "application/vnd.jupyter.widget-view+json": {
              "model_id": "68214c8095c447f0af666ccc94220080",
              "version_minor": 0,
              "version_major": 2
            },
            "text/plain": [
              "HBox(children=(FloatProgress(value=0.0, description='Downloading', max=898823.0, style=ProgressStyle(descripti…"
            ]
          },
          "metadata": {
            "tags": []
          }
        },
        {
          "output_type": "stream",
          "text": [
            "\n"
          ],
          "name": "stdout"
        },
        {
          "output_type": "display_data",
          "data": {
            "application/vnd.jupyter.widget-view+json": {
              "model_id": "4c16c8ccea6c4a2f99e5737cd88495f7",
              "version_minor": 0,
              "version_major": 2
            },
            "text/plain": [
              "HBox(children=(FloatProgress(value=0.0, description='Downloading', max=456318.0, style=ProgressStyle(descripti…"
            ]
          },
          "metadata": {
            "tags": []
          }
        },
        {
          "output_type": "stream",
          "text": [
            "\n"
          ],
          "name": "stdout"
        }
      ]
    },
    {
      "cell_type": "code",
      "metadata": {
        "id": "BImZtxOrN3-P",
        "colab": {
          "resources": {
            "http://localhost:8080/nbextensions/google.colab/files.js": {
              "data": "Ly8gQ29weXJpZ2h0IDIwMTcgR29vZ2xlIExMQwovLwovLyBMaWNlbnNlZCB1bmRlciB0aGUgQXBhY2hlIExpY2Vuc2UsIFZlcnNpb24gMi4wICh0aGUgIkxpY2Vuc2UiKTsKLy8geW91IG1heSBub3QgdXNlIHRoaXMgZmlsZSBleGNlcHQgaW4gY29tcGxpYW5jZSB3aXRoIHRoZSBMaWNlbnNlLgovLyBZb3UgbWF5IG9idGFpbiBhIGNvcHkgb2YgdGhlIExpY2Vuc2UgYXQKLy8KLy8gICAgICBodHRwOi8vd3d3LmFwYWNoZS5vcmcvbGljZW5zZXMvTElDRU5TRS0yLjAKLy8KLy8gVW5sZXNzIHJlcXVpcmVkIGJ5IGFwcGxpY2FibGUgbGF3IG9yIGFncmVlZCB0byBpbiB3cml0aW5nLCBzb2Z0d2FyZQovLyBkaXN0cmlidXRlZCB1bmRlciB0aGUgTGljZW5zZSBpcyBkaXN0cmlidXRlZCBvbiBhbiAiQVMgSVMiIEJBU0lTLAovLyBXSVRIT1VUIFdBUlJBTlRJRVMgT1IgQ09ORElUSU9OUyBPRiBBTlkgS0lORCwgZWl0aGVyIGV4cHJlc3Mgb3IgaW1wbGllZC4KLy8gU2VlIHRoZSBMaWNlbnNlIGZvciB0aGUgc3BlY2lmaWMgbGFuZ3VhZ2UgZ292ZXJuaW5nIHBlcm1pc3Npb25zIGFuZAovLyBsaW1pdGF0aW9ucyB1bmRlciB0aGUgTGljZW5zZS4KCi8qKgogKiBAZmlsZW92ZXJ2aWV3IEhlbHBlcnMgZm9yIGdvb2dsZS5jb2xhYiBQeXRob24gbW9kdWxlLgogKi8KKGZ1bmN0aW9uKHNjb3BlKSB7CmZ1bmN0aW9uIHNwYW4odGV4dCwgc3R5bGVBdHRyaWJ1dGVzID0ge30pIHsKICBjb25zdCBlbGVtZW50ID0gZG9jdW1lbnQuY3JlYXRlRWxlbWVudCgnc3BhbicpOwogIGVsZW1lbnQudGV4dENvbnRlbnQgPSB0ZXh0OwogIGZvciAoY29uc3Qga2V5IG9mIE9iamVjdC5rZXlzKHN0eWxlQXR0cmlidXRlcykpIHsKICAgIGVsZW1lbnQuc3R5bGVba2V5XSA9IHN0eWxlQXR0cmlidXRlc1trZXldOwogIH0KICByZXR1cm4gZWxlbWVudDsKfQoKLy8gTWF4IG51bWJlciBvZiBieXRlcyB3aGljaCB3aWxsIGJlIHVwbG9hZGVkIGF0IGEgdGltZS4KY29uc3QgTUFYX1BBWUxPQURfU0laRSA9IDEwMCAqIDEwMjQ7CgpmdW5jdGlvbiBfdXBsb2FkRmlsZXMoaW5wdXRJZCwgb3V0cHV0SWQpIHsKICBjb25zdCBzdGVwcyA9IHVwbG9hZEZpbGVzU3RlcChpbnB1dElkLCBvdXRwdXRJZCk7CiAgY29uc3Qgb3V0cHV0RWxlbWVudCA9IGRvY3VtZW50LmdldEVsZW1lbnRCeUlkKG91dHB1dElkKTsKICAvLyBDYWNoZSBzdGVwcyBvbiB0aGUgb3V0cHV0RWxlbWVudCB0byBtYWtlIGl0IGF2YWlsYWJsZSBmb3IgdGhlIG5leHQgY2FsbAogIC8vIHRvIHVwbG9hZEZpbGVzQ29udGludWUgZnJvbSBQeXRob24uCiAgb3V0cHV0RWxlbWVudC5zdGVwcyA9IHN0ZXBzOwoKICByZXR1cm4gX3VwbG9hZEZpbGVzQ29udGludWUob3V0cHV0SWQpOwp9CgovLyBUaGlzIGlzIHJvdWdobHkgYW4gYXN5bmMgZ2VuZXJhdG9yIChub3Qgc3VwcG9ydGVkIGluIHRoZSBicm93c2VyIHlldCksCi8vIHdoZXJlIHRoZXJlIGFyZSBtdWx0aXBsZSBhc3luY2hyb25vdXMgc3RlcHMgYW5kIHRoZSBQeXRob24gc2lkZSBpcyBnb2luZwovLyB0byBwb2xsIGZvciBjb21wbGV0aW9uIG9mIGVhY2ggc3RlcC4KLy8gVGhpcyB1c2VzIGEgUHJvbWlzZSB0byBibG9jayB0aGUgcHl0aG9uIHNpZGUgb24gY29tcGxldGlvbiBvZiBlYWNoIHN0ZXAsCi8vIHRoZW4gcGFzc2VzIHRoZSByZXN1bHQgb2YgdGhlIHByZXZpb3VzIHN0ZXAgYXMgdGhlIGlucHV0IHRvIHRoZSBuZXh0IHN0ZXAuCmZ1bmN0aW9uIF91cGxvYWRGaWxlc0NvbnRpbnVlKG91dHB1dElkKSB7CiAgY29uc3Qgb3V0cHV0RWxlbWVudCA9IGRvY3VtZW50LmdldEVsZW1lbnRCeUlkKG91dHB1dElkKTsKICBjb25zdCBzdGVwcyA9IG91dHB1dEVsZW1lbnQuc3RlcHM7CgogIGNvbnN0IG5leHQgPSBzdGVwcy5uZXh0KG91dHB1dEVsZW1lbnQubGFzdFByb21pc2VWYWx1ZSk7CiAgcmV0dXJuIFByb21pc2UucmVzb2x2ZShuZXh0LnZhbHVlLnByb21pc2UpLnRoZW4oKHZhbHVlKSA9PiB7CiAgICAvLyBDYWNoZSB0aGUgbGFzdCBwcm9taXNlIHZhbHVlIHRvIG1ha2UgaXQgYXZhaWxhYmxlIHRvIHRoZSBuZXh0CiAgICAvLyBzdGVwIG9mIHRoZSBnZW5lcmF0b3IuCiAgICBvdXRwdXRFbGVtZW50Lmxhc3RQcm9taXNlVmFsdWUgPSB2YWx1ZTsKICAgIHJldHVybiBuZXh0LnZhbHVlLnJlc3BvbnNlOwogIH0pOwp9CgovKioKICogR2VuZXJhdG9yIGZ1bmN0aW9uIHdoaWNoIGlzIGNhbGxlZCBiZXR3ZWVuIGVhY2ggYXN5bmMgc3RlcCBvZiB0aGUgdXBsb2FkCiAqIHByb2Nlc3MuCiAqIEBwYXJhbSB7c3RyaW5nfSBpbnB1dElkIEVsZW1lbnQgSUQgb2YgdGhlIGlucHV0IGZpbGUgcGlja2VyIGVsZW1lbnQuCiAqIEBwYXJhbSB7c3RyaW5nfSBvdXRwdXRJZCBFbGVtZW50IElEIG9mIHRoZSBvdXRwdXQgZGlzcGxheS4KICogQHJldHVybiB7IUl0ZXJhYmxlPCFPYmplY3Q+fSBJdGVyYWJsZSBvZiBuZXh0IHN0ZXBzLgogKi8KZnVuY3Rpb24qIHVwbG9hZEZpbGVzU3RlcChpbnB1dElkLCBvdXRwdXRJZCkgewogIGNvbnN0IGlucHV0RWxlbWVudCA9IGRvY3VtZW50LmdldEVsZW1lbnRCeUlkKGlucHV0SWQpOwogIGlucHV0RWxlbWVudC5kaXNhYmxlZCA9IGZhbHNlOwoKICBjb25zdCBvdXRwdXRFbGVtZW50ID0gZG9jdW1lbnQuZ2V0RWxlbWVudEJ5SWQob3V0cHV0SWQpOwogIG91dHB1dEVsZW1lbnQuaW5uZXJIVE1MID0gJyc7CgogIGNvbnN0IHBpY2tlZFByb21pc2UgPSBuZXcgUHJvbWlzZSgocmVzb2x2ZSkgPT4gewogICAgaW5wdXRFbGVtZW50LmFkZEV2ZW50TGlzdGVuZXIoJ2NoYW5nZScsIChlKSA9PiB7CiAgICAgIHJlc29sdmUoZS50YXJnZXQuZmlsZXMpOwogICAgfSk7CiAgfSk7CgogIGNvbnN0IGNhbmNlbCA9IGRvY3VtZW50LmNyZWF0ZUVsZW1lbnQoJ2J1dHRvbicpOwogIGlucHV0RWxlbWVudC5wYXJlbnRFbGVtZW50LmFwcGVuZENoaWxkKGNhbmNlbCk7CiAgY2FuY2VsLnRleHRDb250ZW50ID0gJ0NhbmNlbCB1cGxvYWQnOwogIGNvbnN0IGNhbmNlbFByb21pc2UgPSBuZXcgUHJvbWlzZSgocmVzb2x2ZSkgPT4gewogICAgY2FuY2VsLm9uY2xpY2sgPSAoKSA9PiB7CiAgICAgIHJlc29sdmUobnVsbCk7CiAgICB9OwogIH0pOwoKICAvLyBXYWl0IGZvciB0aGUgdXNlciB0byBwaWNrIHRoZSBmaWxlcy4KICBjb25zdCBmaWxlcyA9IHlpZWxkIHsKICAgIHByb21pc2U6IFByb21pc2UucmFjZShbcGlja2VkUHJvbWlzZSwgY2FuY2VsUHJvbWlzZV0pLAogICAgcmVzcG9uc2U6IHsKICAgICAgYWN0aW9uOiAnc3RhcnRpbmcnLAogICAgfQogIH07CgogIGNhbmNlbC5yZW1vdmUoKTsKCiAgLy8gRGlzYWJsZSB0aGUgaW5wdXQgZWxlbWVudCBzaW5jZSBmdXJ0aGVyIHBpY2tzIGFyZSBub3QgYWxsb3dlZC4KICBpbnB1dEVsZW1lbnQuZGlzYWJsZWQgPSB0cnVlOwoKICBpZiAoIWZpbGVzKSB7CiAgICByZXR1cm4gewogICAgICByZXNwb25zZTogewogICAgICAgIGFjdGlvbjogJ2NvbXBsZXRlJywKICAgICAgfQogICAgfTsKICB9CgogIGZvciAoY29uc3QgZmlsZSBvZiBmaWxlcykgewogICAgY29uc3QgbGkgPSBkb2N1bWVudC5jcmVhdGVFbGVtZW50KCdsaScpOwogICAgbGkuYXBwZW5kKHNwYW4oZmlsZS5uYW1lLCB7Zm9udFdlaWdodDogJ2JvbGQnfSkpOwogICAgbGkuYXBwZW5kKHNwYW4oCiAgICAgICAgYCgke2ZpbGUudHlwZSB8fCAnbi9hJ30pIC0gJHtmaWxlLnNpemV9IGJ5dGVzLCBgICsKICAgICAgICBgbGFzdCBtb2RpZmllZDogJHsKICAgICAgICAgICAgZmlsZS5sYXN0TW9kaWZpZWREYXRlID8gZmlsZS5sYXN0TW9kaWZpZWREYXRlLnRvTG9jYWxlRGF0ZVN0cmluZygpIDoKICAgICAgICAgICAgICAgICAgICAgICAgICAgICAgICAgICAgJ24vYSd9IC0gYCkpOwogICAgY29uc3QgcGVyY2VudCA9IHNwYW4oJzAlIGRvbmUnKTsKICAgIGxpLmFwcGVuZENoaWxkKHBlcmNlbnQpOwoKICAgIG91dHB1dEVsZW1lbnQuYXBwZW5kQ2hpbGQobGkpOwoKICAgIGNvbnN0IGZpbGVEYXRhUHJvbWlzZSA9IG5ldyBQcm9taXNlKChyZXNvbHZlKSA9PiB7CiAgICAgIGNvbnN0IHJlYWRlciA9IG5ldyBGaWxlUmVhZGVyKCk7CiAgICAgIHJlYWRlci5vbmxvYWQgPSAoZSkgPT4gewogICAgICAgIHJlc29sdmUoZS50YXJnZXQucmVzdWx0KTsKICAgICAgfTsKICAgICAgcmVhZGVyLnJlYWRBc0FycmF5QnVmZmVyKGZpbGUpOwogICAgfSk7CiAgICAvLyBXYWl0IGZvciB0aGUgZGF0YSB0byBiZSByZWFkeS4KICAgIGxldCBmaWxlRGF0YSA9IHlpZWxkIHsKICAgICAgcHJvbWlzZTogZmlsZURhdGFQcm9taXNlLAogICAgICByZXNwb25zZTogewogICAgICAgIGFjdGlvbjogJ2NvbnRpbnVlJywKICAgICAgfQogICAgfTsKCiAgICAvLyBVc2UgYSBjaHVua2VkIHNlbmRpbmcgdG8gYXZvaWQgbWVzc2FnZSBzaXplIGxpbWl0cy4gU2VlIGIvNjIxMTU2NjAuCiAgICBsZXQgcG9zaXRpb24gPSAwOwogICAgd2hpbGUgKHBvc2l0aW9uIDwgZmlsZURhdGEuYnl0ZUxlbmd0aCkgewogICAgICBjb25zdCBsZW5ndGggPSBNYXRoLm1pbihmaWxlRGF0YS5ieXRlTGVuZ3RoIC0gcG9zaXRpb24sIE1BWF9QQVlMT0FEX1NJWkUpOwogICAgICBjb25zdCBjaHVuayA9IG5ldyBVaW50OEFycmF5KGZpbGVEYXRhLCBwb3NpdGlvbiwgbGVuZ3RoKTsKICAgICAgcG9zaXRpb24gKz0gbGVuZ3RoOwoKICAgICAgY29uc3QgYmFzZTY0ID0gYnRvYShTdHJpbmcuZnJvbUNoYXJDb2RlLmFwcGx5KG51bGwsIGNodW5rKSk7CiAgICAgIHlpZWxkIHsKICAgICAgICByZXNwb25zZTogewogICAgICAgICAgYWN0aW9uOiAnYXBwZW5kJywKICAgICAgICAgIGZpbGU6IGZpbGUubmFtZSwKICAgICAgICAgIGRhdGE6IGJhc2U2NCwKICAgICAgICB9LAogICAgICB9OwogICAgICBwZXJjZW50LnRleHRDb250ZW50ID0KICAgICAgICAgIGAke01hdGgucm91bmQoKHBvc2l0aW9uIC8gZmlsZURhdGEuYnl0ZUxlbmd0aCkgKiAxMDApfSUgZG9uZWA7CiAgICB9CiAgfQoKICAvLyBBbGwgZG9uZS4KICB5aWVsZCB7CiAgICByZXNwb25zZTogewogICAgICBhY3Rpb246ICdjb21wbGV0ZScsCiAgICB9CiAgfTsKfQoKc2NvcGUuZ29vZ2xlID0gc2NvcGUuZ29vZ2xlIHx8IHt9OwpzY29wZS5nb29nbGUuY29sYWIgPSBzY29wZS5nb29nbGUuY29sYWIgfHwge307CnNjb3BlLmdvb2dsZS5jb2xhYi5fZmlsZXMgPSB7CiAgX3VwbG9hZEZpbGVzLAogIF91cGxvYWRGaWxlc0NvbnRpbnVlLAp9Owp9KShzZWxmKTsK",
              "ok": true,
              "headers": [
                [
                  "content-type",
                  "application/javascript"
                ]
              ],
              "status": 200,
              "status_text": ""
            }
          },
          "base_uri": "https://localhost:8080/",
          "height": 73
        },
        "outputId": "a0bf7039-bdf9-4385-df8e-d5eba97c5e19"
      },
      "source": [
        "uploaded = files.upload()"
      ],
      "execution_count": null,
      "outputs": [
        {
          "output_type": "display_data",
          "data": {
            "text/html": [
              "\n",
              "     <input type=\"file\" id=\"files-b5f61448-f909-457a-aaa5-eeb597976b64\" name=\"files[]\" multiple disabled\n",
              "        style=\"border:none\" />\n",
              "     <output id=\"result-b5f61448-f909-457a-aaa5-eeb597976b64\">\n",
              "      Upload widget is only available when the cell has been executed in the\n",
              "      current browser session. Please rerun this cell to enable.\n",
              "      </output>\n",
              "      <script src=\"/nbextensions/google.colab/files.js\"></script> "
            ],
            "text/plain": [
              "<IPython.core.display.HTML object>"
            ]
          },
          "metadata": {
            "tags": []
          }
        },
        {
          "output_type": "stream",
          "text": [
            "Saving indian_companies_profile_latest.csv to indian_companies_profile_latest.csv\n"
          ],
          "name": "stdout"
        }
      ]
    },
    {
      "cell_type": "code",
      "metadata": {
        "id": "Y-3jOsBZN6MH"
      },
      "source": [
        "df = pd.read_csv(io.BytesIO(uploaded['indian_companies_profile_latest.csv']))\n",
        "df = df.replace(np.nan,'',regex=True)"
      ],
      "execution_count": null,
      "outputs": []
    },
    {
      "cell_type": "code",
      "metadata": {
        "id": "EG4_R8XPbSXf",
        "colab": {
          "base_uri": "https://localhost:8080/",
          "height": 202
        },
        "outputId": "625e3053-874f-49b2-a9bf-d81a5658a267"
      },
      "source": [
        "df.head()"
      ],
      "execution_count": null,
      "outputs": [
        {
          "output_type": "execute_result",
          "data": {
            "text/html": [
              "<div>\n",
              "<style scoped>\n",
              "    .dataframe tbody tr th:only-of-type {\n",
              "        vertical-align: middle;\n",
              "    }\n",
              "\n",
              "    .dataframe tbody tr th {\n",
              "        vertical-align: top;\n",
              "    }\n",
              "\n",
              "    .dataframe thead th {\n",
              "        text-align: right;\n",
              "    }\n",
              "</style>\n",
              "<table border=\"1\" class=\"dataframe\">\n",
              "  <thead>\n",
              "    <tr style=\"text-align: right;\">\n",
              "      <th></th>\n",
              "      <th>company_name</th>\n",
              "      <th>entity_id</th>\n",
              "      <th>manual</th>\n",
              "      <th>bloomberg</th>\n",
              "      <th>marketscreener</th>\n",
              "      <th>yahoofinance</th>\n",
              "    </tr>\n",
              "  </thead>\n",
              "  <tbody>\n",
              "    <tr>\n",
              "      <th>0</th>\n",
              "      <td>AARTI Industries Ltd.</td>\n",
              "      <td>05WLR7-E</td>\n",
              "      <td></td>\n",
              "      <td></td>\n",
              "      <td>Aarti Industries Limited is a manufacturer of ...</td>\n",
              "      <td>Aarti Industries Limited manufactures and sell...</td>\n",
              "    </tr>\n",
              "    <tr>\n",
              "      <th>1</th>\n",
              "      <td>ABB India Ltd.</td>\n",
              "      <td>05J1G1-E</td>\n",
              "      <td></td>\n",
              "      <td></td>\n",
              "      <td>ABB India Limited specializes in the design, m...</td>\n",
              "      <td>ABB India Limited offers industrial technology...</td>\n",
              "    </tr>\n",
              "    <tr>\n",
              "      <th>2</th>\n",
              "      <td>ACC Ltd.</td>\n",
              "      <td>05HZC9-E</td>\n",
              "      <td></td>\n",
              "      <td></td>\n",
              "      <td>ACC is leader in India of cement production. N...</td>\n",
              "      <td>ACC Limited manufactures and sells cement and ...</td>\n",
              "    </tr>\n",
              "    <tr>\n",
              "      <th>3</th>\n",
              "      <td>AGC Networks Ltd.</td>\n",
              "      <td>09SKF5-E</td>\n",
              "      <td></td>\n",
              "      <td></td>\n",
              "      <td>AGC Networks Limited is a Global Solutions Int...</td>\n",
              "      <td>AGC Networks Limited provides information and ...</td>\n",
              "    </tr>\n",
              "    <tr>\n",
              "      <th>4</th>\n",
              "      <td>APL Apollo Tubes Ltd.</td>\n",
              "      <td>06SR7L-E</td>\n",
              "      <td></td>\n",
              "      <td></td>\n",
              "      <td>APL Apollo Tubes Limited is a steel tube manuf...</td>\n",
              "      <td>APL Apollo Tubes Limited manufactures and sell...</td>\n",
              "    </tr>\n",
              "  </tbody>\n",
              "</table>\n",
              "</div>"
            ],
            "text/plain": [
              "            company_name  ...                                       yahoofinance\n",
              "0  AARTI Industries Ltd.  ...  Aarti Industries Limited manufactures and sell...\n",
              "1         ABB India Ltd.  ...  ABB India Limited offers industrial technology...\n",
              "2               ACC Ltd.  ...  ACC Limited manufactures and sells cement and ...\n",
              "3      AGC Networks Ltd.  ...  AGC Networks Limited provides information and ...\n",
              "4  APL Apollo Tubes Ltd.  ...  APL Apollo Tubes Limited manufactures and sell...\n",
              "\n",
              "[5 rows x 6 columns]"
            ]
          },
          "metadata": {
            "tags": []
          },
          "execution_count": 107
        }
      ]
    },
    {
      "cell_type": "code",
      "metadata": {
        "colab": {
          "base_uri": "https://localhost:8080/"
        },
        "id": "-IiBEXIzOmAn",
        "outputId": "dfdd3463-f3df-4fc6-dfcb-54526549b60c"
      },
      "source": [
        "config.read('config.ini')"
      ],
      "execution_count": null,
      "outputs": [
        {
          "output_type": "execute_result",
          "data": {
            "text/plain": [
              "['config.ini']"
            ]
          },
          "metadata": {
            "tags": []
          },
          "execution_count": 18
        }
      ]
    },
    {
      "cell_type": "code",
      "metadata": {
        "id": "rDxmWnk_sJEN"
      },
      "source": [
        "def clean_text(text):\n",
        "  text = text.replace('plc','PLC').replace('Plc','PLC').replace('Pte.','Private').replace('Pte ','Private ').replace('Ltd ','Limited ').replace('Inc ','Incorporation ').replace('PT.','PT').replace('Yes Bank','YES BANK').replace('Co ','Corporation ').replace('P.T.','PT').replace('S.A.','SA')\n",
        "  return text\n",
        "    \n",
        "def create_NLP_object(text):\n",
        "  return nlp(text)\n",
        "\n",
        "'''\n",
        "def get_first_sentence(doc):\n",
        "  for token in doc.sents:\n",
        "      return token.text\n",
        "'''\n",
        "def get_first_sentence(text):\n",
        "  pk = PunktSentenceTokenizer(text)\n",
        "  sentences = pk.tokenize(text)\n",
        "  if sentences!=[]:\n",
        "    return sentences[0]\n",
        "\n",
        "def remove_spaces(text):\n",
        "  text = text.lstrip()\n",
        "  text = text.rstrip()\n",
        "  text = re.sub(' +', ' ', text)\n",
        "  return text\n"
      ],
      "execution_count": null,
      "outputs": []
    },
    {
      "cell_type": "code",
      "metadata": {
        "id": "rfesVLqBsN-X"
      },
      "source": [
        "pattern_pos=r'((DT|PRP){1}.*VBZ.*IN.*NNS?.*(NNP?){1,})'\n",
        "def get_segments_sentence(sentence_list):\n",
        "    segment_sentence = []\n",
        "    for sent in sentence_list:\n",
        "        doc=create_NLP_object(sent)\n",
        "        pos_list=[]\n",
        "        for token in doc:\n",
        "            if token.pos_ != 'PUNCT':\n",
        "                pos_list.append(token.tag_)\n",
        "        pos_str=' '.join(pos_list)\n",
        "        if re.search(pattern_pos,pos_str) and re.search(r'(segment|division)', sent):\n",
        "        #if re.search(pattern_pos,pos_str):\n",
        "            #print(sent)\n",
        "            segment_sentence.append(sent)\n",
        "    return segment_sentence"
      ],
      "execution_count": null,
      "outputs": []
    },
    {
      "cell_type": "code",
      "metadata": {
        "id": "1uEZiL4WsPnH"
      },
      "source": [
        "def get_sales_sentences(text):\n",
        "    number_sentences=[]\n",
        "    for s in text.split('\\n'):\n",
        "        if re.findall('(\\(.*\\d+(\\.\\d+)?%?.*\\))',s):\n",
        "            number_sentences.append(s) \n",
        "    if re.search('(\\..*breaks? down.*:)',text):\n",
        "        if number_sentences:\n",
        "            if 'break down' not in number_sentences[0] or 'breaks down' not in number_sentences[0]:\n",
        "                #print(re.search('(\\..*breaks? down.*:)',text).group(0).split('.')[-1])\n",
        "                number_sentences[0]=re.search('(\\..*breaks? down.*:)',text).group(0).split('.')[-1]+ \" \" + number_sentences[0]\n",
        "                number_sentences[0]=number_sentences[0].lstrip('.')\n",
        "    for sent in number_sentences:\n",
        "        if re.search('(breaks? down)',sent) or 'geographically' in sent:\n",
        "            return(number_sentences)\n",
        "        else:\n",
        "            continue\n",
        "    return []    \n"
      ],
      "execution_count": null,
      "outputs": []
    },
    {
      "cell_type": "code",
      "metadata": {
        "id": "NYAVVYcMsSrb"
      },
      "source": [
        "origin_re = 'founded|originated|incorporated|headquartered'\n",
        "verb_list = ['services', 'service', 'segments', 'segment', 'provides', 'offers', 'engages','operates','markets','distributes','sells','proposes', 'specializes', 'serves', 'produces','production','engaged', 'derives', 'business', 'develops','products include','creates','involved','delivers', 'activities include', 'merchandise includes', 'offerings', 'trades','comprise','portfolio includes','inspects','manufactures','explores','solutions include']\n",
        "subsidiary_list = ['subsidiary','parent','subsidiaries','names','name', 'brand','brands', 'portfolio companies','collaboration', 'own-label', 'shareholder','shareholders','business units', 'business unit','strategic agreement','member']\n",
        "no_employees = 'Number of employees : \\d{0,3}\\s*\\d{1,3} people.'  "
      ],
      "execution_count": null,
      "outputs": []
    },
    {
      "cell_type": "code",
      "metadata": {
        "id": "iH28fbNHsVeq"
      },
      "source": [
        "def tag_sentences(text_manual, text_yahoo, text_bloomberg, text_marketscreener):\n",
        "  text_marketscreener = re.sub(no_employees, '', text_marketscreener)\n",
        "  text_manual = clean_text(text_manual)\n",
        "  text_yahoo = clean_text(text_yahoo)\n",
        "  text_bloomberg = clean_text(text_bloomberg)\n",
        "  text_marketscreener = clean_text(text_marketscreener)\n",
        "\n",
        "  doc_manual = create_NLP_object(text_manual)\n",
        "  doc_yahoo = create_NLP_object(text_yahoo)\n",
        "  doc_bloomberg = create_NLP_object(text_bloomberg)\n",
        "  doc_marketscreener = create_NLP_object(text_marketscreener)\n",
        "\n",
        "  #first sentence\n",
        "  manual_first_sentence = get_first_sentence(text_manual)\n",
        "  yahoo_first_sentence = get_first_sentence(text_yahoo)\n",
        "  bloomberg_first_sentence = get_first_sentence(text_bloomberg)\n",
        "  marketscreener_first_sentence = get_first_sentence(text_marketscreener)\n",
        "\n",
        "  if marketscreener_first_sentence:\n",
        "    if re.search('\\n',marketscreener_first_sentence):\n",
        "      marketscreener_first_sentence = ''\n",
        "\n",
        "  if manual_first_sentence: manual_first_sentence = re.sub('(\\\\n)+',' ', manual_first_sentence)\n",
        "  if yahoo_first_sentence: yahoo_first_sentence = re.sub('(\\\\n)+',' ', yahoo_first_sentence)\n",
        "  if bloomberg_first_sentence: bloomberg_first_sentence = re.sub('(\\\\n)+',' ', bloomberg_first_sentence)\n",
        "  if marketscreener_first_sentence: marketscreener_first_sentence = re.sub('(\\\\n)+',' ', marketscreener_first_sentence)\n",
        "\n",
        "  sentence_tag = {}\n",
        "  if manual_first_sentence: sentence_tag[manual_first_sentence] = 'first sentence'\n",
        "  if yahoo_first_sentence: sentence_tag[yahoo_first_sentence] = 'first sentence'\n",
        "  if bloomberg_first_sentence: sentence_tag[bloomberg_first_sentence] = 'first sentence'\n",
        "  if marketscreener_first_sentence: sentence_tag[marketscreener_first_sentence] = 'first sentence'\n",
        "\n",
        "  print('---------------------')\n",
        "  print('First sentences')\n",
        "  for sentence in sentence_tag.keys():\n",
        "      print(sentence)\n",
        "\n",
        "  ## sales \n",
        "  print('---------------------')\n",
        "  print('Sales')\n",
        "  sales_sentence = get_sales_sentences(text_marketscreener)\n",
        "  text_marketscreener = re.sub('(\\\\n)+',' ', text_marketscreener)\n",
        "  for sent in sales_sentence:\n",
        "      text_marketscreener = text_marketscreener.replace(sent, '')\n",
        "\n",
        "  text_marketscreener = re.sub(' +', ' ', text_marketscreener)\n",
        "  sales_sentence = ' '.join(sales_sentence)\n",
        "  sales_sentence = sales_sentence.lstrip()\n",
        "  if sales_sentence not in sentence_tag and sales_sentence:\n",
        "      sentence_tag[sales_sentence] = 'sales'\n",
        "      print(sales_sentence)\n",
        "\n",
        "  text = text_manual + \" \" + text_yahoo + \" \" + text_bloomberg + \" \" + text_marketscreener\n",
        "  text = text.replace('â??',\"'\")  \n",
        "\n",
        "  text = remove_spaces(text)\n",
        "  for sentence,tag in sentence_tag.items():\n",
        "    if tag in 'first sentence':\n",
        "      text = text.replace(sentence,' ')\n",
        "  text = remove_spaces(text)\n",
        "  \n",
        "  doc = create_NLP_object(text)\n",
        "  nltk_s = PunktSentenceTokenizer(text)\n",
        "  nltk_sentences = nltk_s.tokenize(text)\n",
        "  \n",
        "  print('---------------------')\n",
        "  print('Services')\n",
        "  #identifying segments of company\n",
        "  segment_sentences = get_segments_sentence(nltk_sentences)\n",
        "\n",
        "  #high probability of services\n",
        "  for sentence in nltk_sentences:\n",
        "      print('---------------------')\n",
        "      sentence_verbs_list = [verb for verb in verb_list if verb in sentence]\n",
        "      if sentence in segment_sentences and sentence not in sentence_tag:\n",
        "          sentence_tag[sentence] = 'segments.services'\n",
        "          print(sentence)\n",
        "      if len(sentence.split(\", \")) > 2 and sentence_verbs_list and sentence not in sentence_tag:\n",
        "          sentence_tag[sentence] = 'strictly services'\n",
        "          print(sentence)\n",
        "\n",
        "  #shareholders/subsidiary/related companies\n",
        "  print('---------------------')\n",
        "  print('Relations')        \n",
        "  organizations = list(set([word.text for word in doc.ents if word.label_ == 'ORG']))\n",
        "  print(organizations)\n",
        "  for sentence in nltk_sentences:\n",
        "      sentence_organizations = [organization for organization in organizations if organization in sentence]\n",
        "      sentence_subsidiary_list = [sub for sub in subsidiary_list if sub in sentence]\n",
        "      if sentence_subsidiary_list and sentence not in sentence_tag and sentence_organizations and 'changed its name' not in sentence :\n",
        "          print(sentence)\n",
        "          sentence_tag[sentence] = 'client.shareholders.subsidiary'\n",
        "\n",
        "  #monetary & sales\n",
        "  print('---------------------')\n",
        "  print('Monetary & Sales')        \n",
        "\n",
        "  monetary_list = list(set([word.text for word in doc.ents if word.label_ == 'MONEY']))\n",
        "  for sentence in nltk_sentences:        \n",
        "      sentence_monetary_list = [money for money in monetary_list if money in sentence]\n",
        "      if sentence not in sentence_tag and re.search('\\d+', sentence) and (sentence_monetary_list or re.search('% of net sales|% of net income|% of income|% of revenue|INR|USD|EUR', sentence)):\n",
        "          sentence_tag[sentence] = 'money.sales'\n",
        "          print(sentence)\n",
        "\n",
        "  #Other numbers but not origin related\n",
        "  print('---------------------')\n",
        "  print('Other numbers')        \n",
        "\n",
        "  for sentence in nltk_sentences:        \n",
        "      if sentence not in sentence_tag and re.search('\\d+', sentence) and re.search(origin_re, sentence) is None:\n",
        "          sentence_tag[sentence] = 'other.numbers'\n",
        "          print(sentence)\n",
        "  return text, sentence_tag"
      ],
      "execution_count": null,
      "outputs": []
    },
    {
      "cell_type": "code",
      "metadata": {
        "id": "OTuAI6JrCnM0"
      },
      "source": [
        "def connect_db(host,user,password,db):\n",
        "    connection = None\n",
        "    try:\n",
        "        connection = mysql.connect(\n",
        "            host= host,\n",
        "            user= user,\n",
        "            passwd= password,\n",
        "            database = db\n",
        "            )\n",
        "        \n",
        "        print(\"connection success\")\n",
        "    except Exception as e:\n",
        "        print(f'Error {e} occured')    \n",
        "    return connection\n",
        "\n",
        "def execute_query(connection,query):\n",
        "    cursor = connection.cursor()\n",
        "    result = None\n",
        "    try:\n",
        "        print(cursor.execute(query))  \n",
        "        connection.commit()\n",
        "        result = cursor.fetchall()\n",
        "        return result\n",
        "    except Exception as e:\n",
        "        print(f'Error {e} occured')\n",
        "\n",
        "def insert_data(table_name, column_names, values_list, connection):\n",
        "    print(\"here\")\n",
        "    query=\"INSERT INTO {} ({}) VALUES (\".format(table_name,','.join(column_names))\n",
        "    for ele in values_list[0:-1]:\n",
        "        if type(ele)==str:\n",
        "            query=query+ \"'\"+ele+\"',\"\n",
        "        else:\n",
        "            query=query+str(ele)+','\n",
        "    if type(values_list[-1])==str:\n",
        "        query=query+\"'\"+values_list[-1]+\"')\"\n",
        "    else:\n",
        "        query=query+str(values_list[-1])+\")\"\n",
        "    execute_query(connection,query)\n",
        "\n",
        "def insert_data(table_name, column_names, values_list, connection):\n",
        "    print(\"here\")\n",
        "    query=\"INSERT INTO {} ({}) VALUES (\".format(table_name,','.join(column_names))\n",
        "    for ele in values_list[0:-1]:\n",
        "        if type(ele)==str:\n",
        "            query=query+ \"'\"+ele+\"',\"\n",
        "        else:\n",
        "            query=query+str(ele)+','\n",
        "    if type(values_list[-1])==str:\n",
        "        query=query+\"'\"+values_list[-1]+\"')\"\n",
        "    else:\n",
        "        query=query+str(values_list[-1])+\")\"\n",
        "    execute_query(connection,query)\n"
      ],
      "execution_count": null,
      "outputs": []
    },
    {
      "cell_type": "code",
      "metadata": {
        "colab": {
          "base_uri": "https://localhost:8080/"
        },
        "id": "Px_MGFo2Ue-t",
        "outputId": "4e1dacdc-75a4-41ea-9924-58d729ce18a1"
      },
      "source": [
        "connection = connect_db(\n",
        "            host = config['database']['host'],\n",
        "            user = config['database']['user'],\n",
        "            password = config['database']['password'],\n",
        "            db = config['database']['db']\n",
        "            )"
      ],
      "execution_count": null,
      "outputs": [
        {
          "output_type": "stream",
          "text": [
            "connection success\n"
          ],
          "name": "stdout"
        }
      ]
    },
    {
      "cell_type": "code",
      "metadata": {
        "id": "ZpFP3LnYO6Wk"
      },
      "source": [
        "eid = []\r\n",
        "eid = ['05WLR7-E'\r\n",
        ",'05J1G1-E'\r\n",
        ",'05HZC9-E'\r\n",
        ",'09SKF5-E'\r\n",
        ",'06SR7L-E'\r\n",
        ",'07CL9B-E'\r\n",
        ",'05J3ZV-E'\r\n",
        ",'05W5DP-E'\r\n",
        ",'06WSWZ-E'\r\n",
        ",'06YW41-E'\r\n",
        ",'0FP1QM-E'\r\n",
        ",'0D5DY6-E'\r\n",
        ",'006GRF-E'\r\n",
        ",'09VWKH-E'\r\n",
        ",'089RP4-E'\r\n",
        ",'0605GV-E'\r\n",
        ",'06HHHW-E'\r\n",
        ",'05T3L4-E'\r\n",
        ",'05JFZ7-E'\r\n",
        ",'0BXG4T-E'\r\n",
        ",'05HZ5F-E']"
      ],
      "execution_count": null,
      "outputs": []
    },
    {
      "cell_type": "code",
      "metadata": {
        "colab": {
          "base_uri": "https://localhost:8080/"
        },
        "id": "A6hrpWkt4Wcv",
        "outputId": "35a561eb-0934-41ab-83c8-6ccb376e9c6a"
      },
      "source": [
        "len(eid)"
      ],
      "execution_count": null,
      "outputs": [
        {
          "output_type": "execute_result",
          "data": {
            "text/plain": [
              "21"
            ]
          },
          "metadata": {
            "tags": []
          },
          "execution_count": 114
        }
      ]
    },
    {
      "cell_type": "code",
      "metadata": {
        "id": "CEe1tt7BPbE5"
      },
      "source": [
        "table_name = config['DEFAULT']['table_name']\n",
        "column_names = config['DEFAULT']['column_names'].split(',')\n",
        "country = 'India'"
      ],
      "execution_count": null,
      "outputs": []
    },
    {
      "cell_type": "code",
      "metadata": {
        "id": "LCbLkf4TNzCc",
        "colab": {
          "base_uri": "https://localhost:8080/"
        },
        "outputId": "15213bc7-1be1-42b0-df53-5f8b100ba5eb"
      },
      "source": [
        "for index, profiles in df.iterrows():\n",
        "  entity_id = profiles['entity_id']\n",
        "  entity_name = profiles['company_name']\n",
        "  if entity_id in eid:\n",
        "    print('skip ' + entity_id)\n",
        "    continue   \n",
        "\n",
        "  text_bloomberg = profiles['bloomberg']\n",
        "  text_marketscreener = profiles['marketscreener']\n",
        "  text_yahoo = profiles['yahoofinance']\n",
        "  text_manual = profiles['manual']\n",
        "  print(entity_id)\n",
        "  print(text_yahoo)\n",
        "  print(text_manual)\n",
        "  print(text_bloomberg)\n",
        "  print(text_marketscreener)\n",
        "  with open('text.txt','a') as f:\n",
        "    f.write('\\n############################################################################################\\n')\n",
        "    f.write(\"\\n\" + entity_id + \" \" + profiles['company_name'] + \"\\n\")\n",
        "    f.write('\\n' + text_manual)\n",
        "    f.write('\\n' + text_yahoo)\n",
        "    f.write(\"\\n\" + text_bloomberg)\n",
        "    f.write(\"\\n\" + text_marketscreener)\n",
        "  text, sentence_tag = tag_sentences(text_manual, text_yahoo, text_bloomberg, text_marketscreener)\n",
        "    \n",
        "  first_sentences = \" \".join(sentence for sentence,tag in sentence_tag.items() if tag in 'first sentence')\n",
        "  sentences = \" \".join(sentence for sentence,tag in sentence_tag.items() if tag in ['segments.services','strictly services'])\n",
        "  sales = \" \".join(sentence for sentence,tag in sentence_tag.items() if tag in ['sales','money.sales'])\n",
        "  relations = \" \".join(sentence for sentence,tag in sentence_tag.items() if tag in 'client.shareholders.subsidiary')\n",
        "  relations = relations.replace('\"','\\\"').replace(\"'\",\"''\")\n",
        "  other_numbers = \" \".join(sentence for sentence,tag in sentence_tag.items() if tag in 'other.numbers')\n",
        "\n",
        "  #first sentence summary - minimum length: either 15% or 25\n",
        "  min_len = round(0.15 * len(first_sentences))\n",
        "  print(\"15% is \" + str(min_len))\n",
        "  if min_len > 25:\n",
        "    min_len = 25\n",
        "  print(min_len)\n",
        "  if min_len > 5:\n",
        "    fs_inputs = tokenizer([first_sentences], return_tensors='pt')\n",
        "    fs_summary_ids = model.generate(fs_inputs['input_ids'], num_beams=4, no_repeat_ngram_size=2, min_length=min_len, early_stopping=True) \n",
        "    fs_summary = tokenizer.decode(fs_summary_ids[0], skip_special_tokens=True)\n",
        "    pprint.pprint(fs_summary)\n",
        "    doc_fs = create_NLP_object(fs_summary)\n",
        "    fs_summary_sentences = [token.text for token in doc_fs.sents]\n",
        "    for s_idx, sentence in enumerate(fs_summary_sentences):\n",
        "      if re.search('For more information|Back to|back to |For confidential.? support|founded in \\d{4}|WARNING:|Warning:|This article was originally', sentence):\n",
        "        print(sentence)\n",
        "        fs_summary = fs_summary.replace(sentence,'')\n",
        "        fs_summary_sentences.pop(s_idx)\n",
        "    \n",
        "    if re.search('The Company is based in|The company is based in|It is based in', fs_summary_sentences[-1]):\n",
        "      print(fs_summary_sentences[-1])\n",
        "      fs_summary = fs_summary.replace(fs_summary_sentences[-1],'')\n",
        "\n",
        "    if fs_summary[-1]!='.' and fs_summary[-1]!=' ':\n",
        "      fs_summary = fs_summary + \".\"\n",
        "  else:\n",
        "    fs_summary = ''\n",
        "\n",
        "  #segments & services length summary - minimum length: either 15% or 100\n",
        "  summary_len = ''\n",
        "  total_summary = ''\n",
        "  if sentences:\n",
        "    inputs = tokenizer([sentences], return_tensors='pt', max_length= len(sentences), truncation=True)\n",
        "    min_len = round(0.15 * len(sentences))\n",
        "    print(\"\\n15% is \" + str(min_len))\n",
        "    if min_len > 100:\n",
        "      min_len = 100\n",
        "    summary_ids_len = model.generate(inputs['input_ids'], num_beams=4, no_repeat_ngram_size=2, min_length = min_len, max_length=600, early_stopping=True) \n",
        "    summary_len = tokenizer.decode(summary_ids_len[0], skip_special_tokens=True)\n",
        "    print('Services summary:')\n",
        "    pprint.pprint(summary_len)\n",
        "    if summary_len[-1]!='.' and summary_len[-1]!= ' ':\n",
        "      summary_len = summary_len + \".\"\n",
        "\n",
        "    doc_summary = create_NLP_object(summary_len)\n",
        "    summary_sentences = [token.text for token in doc_summary.sents]\n",
        "    for s_idx, sentence in enumerate(summary_sentences):\n",
        "      if re.search('For more information|for more|Back to|back to |For confidential.? support|WARNING:|Warning:|This article was originally', sentence):\n",
        "        print(sentence)\n",
        "        summary_len = summary_len.replace(sentence,'')\n",
        "        summary_sentences.pop(s_idx)\n",
        "      if re.search(r'In \\d{4}, (.*)\\d|recorded a net profit|recorded a net loss|total assets stand|reported a net profit|reported a net loss|share price|In the U.S. contact the National Suicide Prevention Lifeline', sentence):\n",
        "        print(sentence)\n",
        "        summary_len = summary_len.replace(sentence,'')\n",
        "        summary_sentences.pop(s_idx)\n",
        "    \n",
        "    if re.search('The Company is based in|The company is based in|It is based in|In the U.S. contact the National Suicide Prevention Lifeline', summary_sentences[-1]):\n",
        "      print(summary_sentences[-1])\n",
        "      summary_len = summary_len.replace(summary_sentences[-1],'')\n",
        "    \n",
        "    total_summary = fs_summary + \" \" + summary_len\n",
        "    total_summary = total_summary.replace(\"\\xa0\",\" \")\n",
        "    total_summary = remove_spaces(total_summary)\n",
        "    total_summary = total_summary.replace('\"','\\\"').replace(\"'\",\"''\")\n",
        "    print('\\n')\n",
        "    pprint.pprint(total_summary)\n",
        "\n",
        "  else:\n",
        "    print('\\nNo services found')\n",
        "    text = first_sentences + \" \" + text\n",
        "    text = remove_spaces(text)\n",
        "    inputs = tokenizer([text], return_tensors='pt', max_length= len(text), truncation=True)\n",
        "    min_len = round(0.20 * len(text))\n",
        "    print(\"\\n20% is \" + str(min_len))\n",
        "    if min_len > 100:\n",
        "      min_len = 100\n",
        "    summary_ids_len = model.generate(inputs['input_ids'], num_beams=4, no_repeat_ngram_size=2, min_length = min_len, max_length=300, early_stopping=True) \n",
        "    total_summary = tokenizer.decode(summary_ids_len[0], skip_special_tokens=True)\n",
        "    print('Total summary:')\n",
        "    pprint.pprint(total_summary)\n",
        "    if total_summary[-1]!='.':\n",
        "      total_summary = total_summary + \".\"\n",
        "    doc_summary = create_NLP_object(total_summary)\n",
        "    summary_sentences = [token.text for token in doc_summary.sents]\n",
        "    for s_idx, sentence in enumerate(summary_sentences):\n",
        "      if re.search('For more information|for more|Back to|back to |For confidential.? support|WARNING:|Warning:|This article was originally', sentence):\n",
        "        print(sentence)\n",
        "        total_summary = total_summary.replace(sentence,'')\n",
        "        summary_sentences.pop(s_idx)\n",
        "      if re.search(r'In \\d{4}, (.*)\\d|recorded a net profit|recorded a net loss|total assets stand|reported a net profit|reported a net loss|share price|In the U.S. contact the National Suicide Prevention Lifeline', sentence):\n",
        "        print(sentence)\n",
        "        total_summary = total_summary.replace(sentence,'')  \n",
        "        summary_sentences.pop(s_idx)\n",
        "\n",
        "    if re.search('The Company is based in|The company is based in|It is based in|In the U.S. contact the National Suicide Prevention Lifeline', summary_sentences[-1]):\n",
        "      print(summary_sentences[-1])\n",
        "      total_summary = total_summary.replace(summary_sentences[-1],'')\n",
        "    total_summary = total_summary.replace('\"','\\\"').replace(\"'\",\"''\")\n",
        " \n",
        "  with open('text.txt','a') as f:\n",
        "    f.write('\\n\\ntotal summary:\\n')\n",
        "    f.write(total_summary)\n",
        "    f.write('\\n\\nsubsidiaries:\\n')\n",
        "    f.write(relations)\n",
        "  values_list = [time.strftime(\"%Y-%m-%d %H:%M:%S\", time.gmtime()),time.strftime(\"%Y-%m-%d %H:%M:%S\", time.gmtime()),entity_id, entity_name,country,total_summary,relations]\n",
        "  insert_data(table_name, column_names,values_list,connection)\n",
        " \n",
        "  eid.append(entity_id)\n",
        "  \n"
      ],
      "execution_count": null,
      "outputs": [
        {
          "output_type": "stream",
          "text": [
            "skip 05WLR7-E\n"
          ],
          "name": "stdout"
        }
      ]
    },
    {
      "cell_type": "code",
      "metadata": {
        "id": "F95cOEYxQzGg",
        "colab": {
          "base_uri": "https://localhost:8080/",
          "height": 17
        },
        "outputId": "5c815feb-b940-4b53-db86-4fec4ea062e5"
      },
      "source": [
        "files.download('text.txt')"
      ],
      "execution_count": null,
      "outputs": [
        {
          "output_type": "display_data",
          "data": {
            "application/javascript": [
              "\n",
              "    async function download(id, filename, size) {\n",
              "      if (!google.colab.kernel.accessAllowed) {\n",
              "        return;\n",
              "      }\n",
              "      const div = document.createElement('div');\n",
              "      const label = document.createElement('label');\n",
              "      label.textContent = `Downloading \"${filename}\": `;\n",
              "      div.appendChild(label);\n",
              "      const progress = document.createElement('progress');\n",
              "      progress.max = size;\n",
              "      div.appendChild(progress);\n",
              "      document.body.appendChild(div);\n",
              "\n",
              "      const buffers = [];\n",
              "      let downloaded = 0;\n",
              "\n",
              "      const channel = await google.colab.kernel.comms.open(id);\n",
              "      // Send a message to notify the kernel that we're ready.\n",
              "      channel.send({})\n",
              "\n",
              "      for await (const message of channel.messages) {\n",
              "        // Send a message to notify the kernel that we're ready.\n",
              "        channel.send({})\n",
              "        if (message.buffers) {\n",
              "          for (const buffer of message.buffers) {\n",
              "            buffers.push(buffer);\n",
              "            downloaded += buffer.byteLength;\n",
              "            progress.value = downloaded;\n",
              "          }\n",
              "        }\n",
              "      }\n",
              "      const blob = new Blob(buffers, {type: 'application/binary'});\n",
              "      const a = document.createElement('a');\n",
              "      a.href = window.URL.createObjectURL(blob);\n",
              "      a.download = filename;\n",
              "      div.appendChild(a);\n",
              "      a.click();\n",
              "      div.remove();\n",
              "    }\n",
              "  "
            ],
            "text/plain": [
              "<IPython.core.display.Javascript object>"
            ]
          },
          "metadata": {
            "tags": []
          }
        },
        {
          "output_type": "display_data",
          "data": {
            "application/javascript": [
              "download(\"download_84ee02ae-8caa-448d-92b8-7cbc843d2153\", \"text.txt\", 342340)"
            ],
            "text/plain": [
              "<IPython.core.display.Javascript object>"
            ]
          },
          "metadata": {
            "tags": []
          }
        }
      ]
    },
    {
      "cell_type": "code",
      "metadata": {
        "id": "oLKfVeSKSTPc",
        "colab": {
          "base_uri": "https://localhost:8080/"
        },
        "outputId": "790888fb-de8a-47ec-e408-4aadd36f2d16"
      },
      "source": [
        "print(len(eid))"
      ],
      "execution_count": null,
      "outputs": [
        {
          "output_type": "stream",
          "text": [
            "30\n"
          ],
          "name": "stdout"
        }
      ]
    },
    {
      "cell_type": "code",
      "metadata": {
        "id": "aO8T8LEGWTpQ"
      },
      "source": [
        "\n",
        "import os\n",
        "os.remove('text.txt')\n"
      ],
      "execution_count": null,
      "outputs": []
    },
    {
      "cell_type": "code",
      "metadata": {
        "colab": {
          "base_uri": "https://localhost:8080/"
        },
        "id": "xwekC7c0q1mJ",
        "outputId": "a1fc4f1e-6877-40d7-c454-7aa82ea6d487"
      },
      "source": [
        "for index, profiles in df.iterrows():\n",
        "  entity_id = profiles['entity_id']\n",
        "  entity_name = profiles['company_name']\n",
        "  if entity_id == '05J5LN-E':\n",
        "    print('skip ' + entity_id)\n",
        "    break\n"
      ],
      "execution_count": null,
      "outputs": [
        {
          "output_type": "stream",
          "text": [
            "skip 05J5LN-E\n"
          ],
          "name": "stdout"
        }
      ]
    },
    {
      "cell_type": "code",
      "metadata": {
        "colab": {
          "base_uri": "https://localhost:8080/"
        },
        "id": "j6nU54FOrPrH",
        "outputId": "84483ba5-4319-4673-a60b-c7c893c98732"
      },
      "source": [
        "text_bloomberg = profiles['bloomberg']\n",
        "text_marketscreener = profiles['marketscreener']\n",
        "text_yahoo = profiles['yahoofinance']\n",
        "text_manual = profiles['manual']\n",
        "print(entity_id)\n",
        "print(text_yahoo)\n",
        "print(text_manual)\n",
        "print(text_bloomberg)\n",
        "print(text_marketscreener)"
      ],
      "execution_count": null,
      "outputs": [
        {
          "output_type": "stream",
          "text": [
            "05J5LN-E\n",
            "Interroll Holding AG provides products and services for internal logistics worldwide. Its products include rollers, drives, conveyors and sorters, and pallet handling products. The company offers driven conveyor rollers, control systems, and drum motors; conveyors and sorters, including cross-belt sorters, belt curves, modular conveyor platforms, and modular pallet conveyor platforms; and flow storage solutions for pallets and parcel packaging. Its products and services are used in courier, express, and parcel; airport; e-commerce; tire and automotive; fashion; food and beverage; and distribution and warehouse industries, as well as in various other manufacturing industries. The company serves plant manufacturers, original equipment manufacturers, system integrators, and end users. Interroll Holding AG was founded in 1959 and is headquartered in Sant'Antonino, Switzerland.\n",
            "\n",
            "\n",
            "Interroll Holding AG is a Swiss manufacturer of products and services for in-house logistics. The Companyâ??s business is structured into four product groups. The Rollers group focuses on the production of conveyor rollers. The Drives group manufactures motors and drivers for conveyors. The Conveyors & Sorters encompasses conveyor and sorter systems. The Pallet & Carton Flow group is engaged in the storage activities. The Company offers its products to couriers, express and postal services, airports, food processing, and distribution sectors. Its clients portfolio includes global brands, such as Amazon, Bosch, Coca -Cola, Coop, DHL, FedEx , Peugeot, PepsiCo, Procter & Gamble , Siemens, Walmart and Yamaha. Interroll Holding AG is engaged in global research projects in the field of logistics efficiency and supporting industry associations in the development of standards. In May 2014, the Company established its first sales unit in Portugal.Number of employees : 2 400 people.\n",
            "\n"
          ],
          "name": "stdout"
        }
      ]
    },
    {
      "cell_type": "code",
      "metadata": {
        "colab": {
          "base_uri": "https://localhost:8080/"
        },
        "id": "jA0bIt4nrDEe",
        "outputId": "a1b89fd3-b2c0-43f5-a894-fd7436971887"
      },
      "source": [
        "text, sentence_tag = tag_sentences(text_manual, text_yahoo, text_bloomberg, text_marketscreener)"
      ],
      "execution_count": null,
      "outputs": [
        {
          "output_type": "stream",
          "text": [
            "---------------------\n",
            "First sentences\n",
            "Interroll Holding AG provides products and services for internal logistics worldwide.\n",
            "Interroll Holding AG is a Swiss manufacturer of products and services for in-house logistics.\n",
            "---------------------\n",
            "Sales\n",
            "---------------------\n",
            "Services\n",
            "---------------------\n",
            "Its products include rollers, drives, conveyors and sorters, and pallet handling products.\n",
            "---------------------\n",
            "The company offers driven conveyor rollers, control systems, and drum motors; conveyors and sorters, including cross-belt sorters, belt curves, modular conveyor platforms, and modular pallet conveyor platforms; and flow storage solutions for pallets and parcel packaging.\n",
            "---------------------\n",
            "Its products and services are used in courier, express, and parcel; airport; e-commerce; tire and automotive; fashion; food and beverage; and distribution and warehouse industries, as well as in various other manufacturing industries.\n",
            "---------------------\n",
            "The company serves plant manufacturers, original equipment manufacturers, system integrators, and end users.\n",
            "---------------------\n",
            "---------------------\n",
            "---------------------\n",
            "---------------------\n",
            "---------------------\n",
            "---------------------\n",
            "---------------------\n",
            "The Company offers its products to couriers, express and postal services, airports, food processing, and distribution sectors.\n",
            "---------------------\n",
            "Its clients portfolio includes global brands, such as Amazon, Bosch, Coca -Cola, Coop, DHL, FedEx , Peugeot, PepsiCo, Procter & Gamble , Siemens, Walmart and Yamaha.\n",
            "---------------------\n",
            "---------------------\n",
            "---------------------\n",
            "Relations\n",
            "['Company', 'Pallet & Carton Flow', 'Bosch', 'Peugeot', 'PepsiCo', 'Siemens', 'FedEx', 'Walmart', 'Drives', 'DHL', 'The Conveyors & Sorters', 'Amazon', 'Procter & Gamble', 'Rollers', 'Interroll Holding AG', 'Yamaha']\n",
            "---------------------\n",
            "Monetary & Sales\n",
            "---------------------\n",
            "Other numbers\n",
            "In May 2014, the Company established its first sales unit in Portugal.\n"
          ],
          "name": "stdout"
        }
      ]
    },
    {
      "cell_type": "code",
      "metadata": {
        "colab": {
          "base_uri": "https://localhost:8080/",
          "height": 226
        },
        "id": "macLdxfFr0MT",
        "outputId": "fed87f3b-5ee5-4015-9a51-f09873669157"
      },
      "source": [
        "text"
      ],
      "execution_count": null,
      "outputs": [
        {
          "output_type": "execute_result",
          "data": {
            "application/vnd.google.colaboratory.intrinsic+json": {
              "type": "string"
            },
            "text/plain": [
              "\"Its products include rollers, drives, conveyors and sorters, and pallet handling products. The company offers driven conveyor rollers, control systems, and drum motors; conveyors and sorters, including cross-belt sorters, belt curves, modular conveyor platforms, and modular pallet conveyor platforms; and flow storage solutions for pallets and parcel packaging. Its products and services are used in courier, express, and parcel; airport; e-commerce; tire and automotive; fashion; food and beverage; and distribution and warehouse industries, as well as in various other manufacturing industries. The company serves plant manufacturers, original equipment manufacturers, system integrators, and end users. Interroll Holding AG was founded in 1959 and is headquartered in Sant'Antonino, Switzerland. The Company's business is structured into four product groups. The Rollers group focuses on the production of conveyor rollers. The Drives group manufactures motors and drivers for conveyors. The Conveyors & Sorters encompasses conveyor and sorter systems. The Pallet & Carton Flow group is engaged in the storage activities. The Company offers its products to couriers, express and postal services, airports, food processing, and distribution sectors. Its clients portfolio includes global brands, such as Amazon, Bosch, Coca -Cola, Coop, DHL, FedEx , Peugeot, PepsiCo, Procter & Gamble , Siemens, Walmart and Yamaha. Interroll Holding AG is engaged in global research projects in the field of logistics efficiency and supporting industry associations in the development of standards. In May 2014, the Company established its first sales unit in Portugal.\""
            ]
          },
          "metadata": {
            "tags": []
          },
          "execution_count": 34
        }
      ]
    },
    {
      "cell_type": "code",
      "metadata": {
        "id": "ZLH0UjJnZ5jC",
        "colab": {
          "base_uri": "https://localhost:8080/"
        },
        "outputId": "47af8982-462a-48e9-8eaa-b9f9cf54b71e"
      },
      "source": [
        "text_manual = ''\n",
        "text_yahoo = \"\"\n",
        "text_bloomberg = ''\n",
        "text_marketscreener = '''Dürr specializes in the design and construction of turnkey painting shops for the automotive sector. The group also manufactures and markets machines for woodworking. Net sales break down by activity as follows:\n",
        "\n",
        "- design and construction of painting shops (48.3%). Dürr also produces assembly, paint spray and air purification systems;\n",
        "\n",
        "- production of woodworking machinery (32.9%);\n",
        "\n",
        "- manufacturing of measurement systems (18,8%): for the vehicles assembly. The group also manufactures and sells filtration and industrial cleaning systems for the automotive, aeronautic, electricity, electronic and mechanic sectors.\n",
        "\n",
        "Net sales are distributed geographically as follows: Germany (13.1%), Europe (29.3%), Asia/Africa/Australia (30.5%) and Americas (27.1%).Number of employees : 16 493 people.'''\n",
        "text, sentence_tag = tag_sentences(text_manual, text_yahoo, text_bloomberg, text_marketscreener)\n",
        "  \n",
        "first_sentences = \" \".join(sentence for sentence,tag in sentence_tag.items() if tag in 'first sentence')\n",
        "sentences = \" \".join(sentence for sentence,tag in sentence_tag.items() if tag in ['segments.services','strictly services'])\n",
        "sales = \" \".join(sentence for sentence,tag in sentence_tag.items() if tag in ['sales','money.sales'])\n",
        "relations = \" \".join(sentence for sentence,tag in sentence_tag.items() if tag in 'client.shareholders.subsidiary')\n",
        "other_numbers = \" \".join(sentence for sentence,tag in sentence_tag.items() if tag in 'other.numbers')\n",
        "\n",
        "#first sentence summary - minimum length: either 15% or 25\n",
        "min_len = round(0.15 * len(first_sentences))\n",
        "print(\"15% is \" + str(min_len))\n",
        "if min_len > 25:\n",
        "  min_len = 25\n",
        "print(min_len)\n",
        "if min_len > 10:\n",
        "  fs_inputs = tokenizer([first_sentences], return_tensors='pt')\n",
        "  fs_summary_ids = model.generate(fs_inputs['input_ids'], num_beams=4, no_repeat_ngram_size=2, min_length=min_len, early_stopping=True) \n",
        "  fs_summary = tokenizer.decode(fs_summary_ids[0], skip_special_tokens=True)\n",
        "  pprint.pprint(fs_summary)\n",
        "  doc_fs = create_NLP_object(fs_summary)\n",
        "  fs_summary_sentences = [token.text for token in doc_fs.sents]\n",
        "  for s_idx, sentence in enumerate(fs_summary_sentences):\n",
        "    if re.search('For more information|Back to|back to |For confidential.? support|founded in \\d{4}', sentence):\n",
        "      print(sentence)\n",
        "      fs_summary = fs_summary.replace(sentence,'')\n",
        "      fs_summary_sentences.pop(s_idx)\n",
        "\n",
        "  if re.search('The Company is based in|The company is based in|It is based in', fs_summary_sentences[-1]):\n",
        "    fs_summary = fs_summary.replace(fs_summary_sentences[-1],'')\n",
        "\n",
        "  if fs_summary[-1]!='.' and fs_summary[-1]!=' ':\n",
        "    fs_summary = fs_summary + \".\"\n",
        "else:\n",
        "  fs_summary = ''\n",
        "\n",
        "pprint.pprint(fs_summary)\n",
        "\n",
        "#segments & services length summary - minimum length: either 15% or 100\n",
        "summary_len = ''\n",
        "total_summary = ''\n",
        "if sentences:\n",
        "  inputs = tokenizer([sentences], return_tensors='pt', max_length= len(sentences), truncation=True)\n",
        "  min_len = round(0.15 * len(sentences))\n",
        "  print(\"\\n15% is \" + str(min_len))\n",
        "  if min_len > 100:\n",
        "    min_len = 100\n",
        "    \n",
        "  summary_ids_len = model.generate(inputs['input_ids'], num_beams=4, no_repeat_ngram_size=2, min_length = min_len, max_length=600, early_stopping=True) \n",
        "  summary_len = tokenizer.decode(summary_ids_len[0], skip_special_tokens=True)\n",
        "  print('Services summary:')\n",
        "  pprint.pprint(summary_len)\n",
        "  if summary_len[-1]!='.' and summary_len[-1]!= ' ':\n",
        "    summary_len = summary_len + \".\"\n",
        "\n",
        "  doc_summary = create_NLP_object(summary_len)\n",
        "  summary_sentences = [token.text for token in doc_summary.sents]\n",
        "  for s_idx, sentence in enumerate(summary_sentences):\n",
        "    if re.search('For more information|for more|Back to|back to |For confidential.? support|WARNING:|Warning:', sentence):\n",
        "      print(sentence)\n",
        "      summary_len = summary_len.replace(sentence,'')\n",
        "      summary_sentences.pop(s_idx)\n",
        "    \n",
        "    if re.search(r'In \\d{4}, (.*)\\d|recorded a net profit|recorded a net loss|total assets stand|reported a net profit|reported a net loss|share price', sentence):\n",
        "      print(sentence)\n",
        "      summary_len = summary_len.replace(sentence,'')\n",
        "      summary_sentences.pop(s_idx)\n",
        "  \n",
        "  if re.search('The Company is based in|The company is based in|It is based in', summary_sentences[-1]):\n",
        "    summary_len = summary_len.replace(summary_sentences[-1],'')\n",
        "\n",
        "  total_summary = fs_summary + \" \" + summary_len\n",
        "  total_summary = total_summary.replace(\"\\xa0\",\" \")\n",
        "  total_summary = remove_spaces(total_summary)\n",
        "  print('\\n')\n",
        "  pprint.pprint(total_summary)\n",
        "else:\n",
        "  print('\\nNo services found')\n",
        "  text = first_sentences + \" \" + text\n",
        "  text = remove_spaces(text)\n",
        "  inputs = tokenizer([text], return_tensors='pt', max_length= len(text), truncation=True)\n",
        "  min_len = round(0.20 * len(text))\n",
        "  print(\"\\n20% is \" + str(min_len))\n",
        "  if min_len > 100:\n",
        "    min_len = 100\n",
        "  summary_ids_len = model.generate(inputs['input_ids'], num_beams=4, no_repeat_ngram_size=2, min_length = min_len, max_length=300, early_stopping=True) \n",
        "  total_summary = tokenizer.decode(summary_ids_len[0], skip_special_tokens=True)\n",
        "  print('Total summary:')\n",
        "  pprint.pprint(total_summary)\n",
        "  if total_summary[-1]!='.':\n",
        "    total_summary = total_summary + \".\"\n",
        "  doc_summary = create_NLP_object(total_summary)\n",
        "  summary_sentences = [token.text for token in doc_summary.sents]\n",
        "  for s_idx, sentence in enumerate(summary_sentences):\n",
        "    if re.search('For more information|for more|Back to|back to |For confidential.? support|WARNING:|Warning:|is based in', sentence):\n",
        "      print(sentence)\n",
        "      total_summary = total_summary.replace(sentence,'')\n",
        "      summary_sentences.pop(s_idx)\n",
        "\n",
        "    if re.search(r'In \\d{4}, (.*)\\d|recorded a net profit|recorded a net loss|total assets stand|reported a net profit|reported a net loss|share price', sentence):\n",
        "      print(sentence)\n",
        "      total_summary = total_summary.replace(sentence,'')  \n",
        "      summary_sentences.pop(s_idx)\n",
        "\n",
        "  if re.search('The Company is based in|The company is based in|It is based in', summary_sentences[-1]):\n",
        "    total_summary = total_summary.replace(summary_sentences[-1],'')  \n",
        "  \n",
        "print('\\ntotal summary:')\n",
        "print(total_summary)\n",
        "  "
      ],
      "execution_count": null,
      "outputs": [
        {
          "output_type": "stream",
          "text": [
            "---------------------\n",
            "First sentences\n",
            "Dürr specializes in the design and construction of turnkey painting shops for the automotive sector.\n",
            "---------------------\n",
            "Sales\n",
            "Net sales break down by activity as follows: - design and construction of painting shops (48.3%). Dürr also produces assembly, paint spray and air purification systems; - production of woodworking machinery (32.9%); - manufacturing of measurement systems (18,8%): for the vehicles assembly. The group also manufactures and sells filtration and industrial cleaning systems for the automotive, aeronautic, electricity, electronic and mechanic sectors. Net sales are distributed geographically as follows: Germany (13.1%), Europe (29.3%), Asia/Africa/Australia (30.5%) and Americas (27.1%).\n",
            "---------------------\n",
            "Services\n",
            "---------------------\n",
            "---------------------\n",
            "Relations\n",
            "[]\n",
            "---------------------\n",
            "Monetary & Sales\n",
            "---------------------\n",
            "Other numbers\n",
            "15% is 15\n",
            "15\n",
            "('Dürr specializes in the design and construction of turnkey painting shops '\n",
            " 'for the automotive sector.')\n",
            "('Dürr specializes in the design and construction of turnkey painting shops '\n",
            " 'for the automotive sector.')\n",
            "\n",
            "No services found\n",
            "\n",
            "20% is 33\n",
            "Total summary:\n",
            "('Dürr specializes in the design and construction of turnkey painting shops '\n",
            " 'for the automotive sector. The group also manufactures and markets machines '\n",
            " 'for woodworking.')\n",
            "\n",
            "total summary:\n",
            "Dürr specializes in the design and construction of turnkey painting shops for the automotive sector. The group also manufactures and markets machines for woodworking.\n"
          ],
          "name": "stdout"
        }
      ]
    },
    {
      "cell_type": "code",
      "metadata": {
        "id": "ONpGUIZyPapk"
      },
      "source": [
        ""
      ],
      "execution_count": null,
      "outputs": []
    }
  ]
}